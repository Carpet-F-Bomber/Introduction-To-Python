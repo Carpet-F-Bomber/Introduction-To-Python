{
 "cells": [
  {
   "cell_type": "markdown",
   "metadata": {},
   "source": [
    "# Python Lessons\n",
    "\n",
    "Welcome to the suggested part of the course where we will go over various topics specified in the original [README](../README.md)\n",
    "\n",
    "\n",
    "# Topics\n",
    "1. [Environment Setup](lesson01-environment-setup/README.md)\n",
    "\n",
    "2. [Python Basics](lesson02-python-basics/README.md)\n",
    "\n",
    "3. [Functions](lesson03-functions/README.md)\n",
    "\n",
    "4. [Packages, I/O, Exceptions](lesson04-packages-io-exceptions/README.md)\n",
    "\n",
    "5. [Testing](lesson05-testing/README.md)\n",
    "    \n",
    "6. [Object Oriented Programming](lesson06-object-oriented-programming/README.md)\n",
    "        \n",
    "7. [Databases](lesson07-databases/README.md)\n",
    "\n",
    "8. [REST & Flask](lesson08-rest-flask/README.md)\n"
   ]
  }
 ],
 "metadata": {
  "kernelspec": {
   "display_name": "Python 3",
   "language": "python",
   "name": "python3"
  },
  "language_info": {
   "codemirror_mode": {
    "name": "ipython",
    "version": 3
   },
   "file_extension": ".py",
   "mimetype": "text/x-python",
   "name": "python",
   "nbconvert_exporter": "python",
   "pygments_lexer": "ipython3",
   "version": "3.7.0"
  }
 },
 "nbformat": 4,
 "nbformat_minor": 2
}
