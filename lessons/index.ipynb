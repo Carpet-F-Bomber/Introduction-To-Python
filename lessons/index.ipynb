{
 "cells": [
  {
   "cell_type": "markdown",
   "metadata": {},
   "source": [
    "# Python Lessons\n",
    "\n",
    "Welcome to the suggested part of the course where we will go over various topics specified in the original [README](../README.md)\n",
    "\n",
    "\n",
    "# Topics\n",
    "1. [Environment Setup](lesson01-environment-setup/index.ipynb)\n",
    "\n",
    "2. [Python Basics](lesson02-python-basics/index.ipynb)\n",
    "\n",
    "3. [Functions](lesson03-functions/index.ipynb)\n",
    "\n",
    "4. [Packages, I/O, Exceptions](lesson04-packages-io-exceptions/index.ipynb)\n",
    "\n",
    "5. [Testing](lesson05-testing/index.ipynb)\n",
    "    \n",
    "6. [Object Oriented Programming](lesson06-object-oriented-programming/index.ipynb)\n",
    "        \n",
    "7. [Libraries](lesson07-libraries/index.ipynb)\n",
    "\n",
    "8. [REST & Flask](lesson08-rest-flask/index.ipynb)\n"
   ]
  }
 ],
 "metadata": {
  "kernelspec": {
   "display_name": "Python 3",
   "language": "python",
   "name": "python3"
  },
  "language_info": {
   "codemirror_mode": {
    "name": "ipython",
    "version": 3
   },
   "file_extension": ".py",
   "mimetype": "text/x-python",
   "name": "python",
   "nbconvert_exporter": "python",
   "pygments_lexer": "ipython3",
   "version": "3.7.0"
  },
  "pycharm": {
   "stem_cell": {
    "cell_type": "raw",
    "metadata": {
     "collapsed": false
    },
    "source": []
   }
  }
 },
 "nbformat": 4,
 "nbformat_minor": 2
}
