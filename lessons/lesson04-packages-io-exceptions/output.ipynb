{
 "cells": [
  {
   "cell_type": "markdown",
   "metadata": {},
   "source": [
    "# Output\n",
    "As we've seen in the past with our examples, as well as being able to take in text and data, we can also print it back\n",
    "out. Similar to input, we can print out directly to the console or wherever the code is running or we can write to a\n",
    "file. There are reasons and benefits to both and it will be up to you to determine what fits your needs better\n",
    "\n",
    "## Console\n",
    "As we've seen many time, we can print things to the console via the print command"
   ]
  },
  {
   "cell_type": "code",
   "execution_count": null,
   "metadata": {},
   "outputs": [],
   "source": [
    "print('hello')                              # basic print\n",
    "\n",
    "x = 5\n",
    "print('This is a number: {}'.format(x))     # print with formatting\n",
    "\n",
    "\n",
    "print(f'the number {x} is five')            # print using f-string"
   ]
  },
  {
   "cell_type": "markdown",
   "metadata": {},
   "source": [
    "One thing we haven't introduced as some escaped characters we can put in strings to create tabs, new lines, and other\n",
    "little helpers."
   ]
  },
  {
   "cell_type": "code",
   "execution_count": null,
   "metadata": {},
   "outputs": [],
   "source": [
    "# this will print two separate lines\n",
    "print('this is a line\\nthis is on another line') \n",
    "\n",
    "# this has print two strings with a tab between them\n",
    "print('this is a string\\tthis string has been tabbed over')\n",
    "\n",
    "# use the backslash before the quote to let python know\n",
    "# that we want to print a quote, not end the string\n",
    "print('this is how you print a quote: \\'') "
   ]
  },
  {
   "cell_type": "markdown",
   "metadata": {},
   "source": [
    "## Writing Text Files\n",
    "Writing to files, in general, is very similar to how we read from them. We first need to open the file in the correct\n",
    "permissions view and then we can proceed on!"
   ]
  },
  {
   "cell_type": "code",
   "execution_count": null,
   "metadata": {},
   "outputs": [],
   "source": [
    "with open('output.txt', 'w') as write_txt_file:\n",
    "    write_txt_file.write('This is the first line\\n') # if you don't use \\n you will have everything on one line\n",
    "    write_txt_file.write('Here is a second line\\n')"
   ]
  },
  {
   "cell_type": "markdown",
   "metadata": {},
   "source": [
    "## Writing CSV Files"
   ]
  },
  {
   "cell_type": "code",
   "execution_count": null,
   "metadata": {},
   "outputs": [],
   "source": [
    "import csv\n",
    "\n",
    "with open('output.csv', 'w') as write_csv_file:\n",
    "    csv_writer = csv.writer(write_csv_file, delimiter=',')\n",
    "    for i in range(5):\n",
    "        csv_writer.writerow([i, f'This line is #{i}']) # each item in the list makes up the delimited line"
   ]
  },
  {
   "cell_type": "markdown",
   "metadata": {},
   "source": [
    "Unlike the text file, you do not need to specify the new line. The csv_writer will end the line after it has printed\n",
    "everything in the row.\n",
    "\n",
    "## Writing JSON Files\n",
    "Writing JSON to a file is a bit simpler. The overall goal is to get a dictionary and that can be directly converted to a JSON string"
   ]
  },
  {
   "cell_type": "code",
   "execution_count": null,
   "metadata": {},
   "outputs": [],
   "source": [
    "import json\n",
    "\n",
    "# since JSON is really just a dictionary, we can print out a dictionary to a json file\n",
    "# we can also take in an input json file, modify it, and push it back out\n",
    "output_json = {\"sample\": {\"first\": True, \"fake\": True, \"data\": [\"a\", \"b\", \"c\"]}}\n",
    "\n",
    "with open('output.json', 'w') as output_file:\n",
    "    json.dump(output_json, output_file)"
   ]
  },
  {
   "cell_type": "markdown",
   "metadata": {},
   "source": [
    "Just like how there is a `json.loads`, there is also a `json.dumps` function which will take some dictionary/JSON and\n",
    "output it as a string.\n",
    "\n",
    "Also, as mentioned with inputs, we can use the argparse library to take in the output file name when calling the program so we\n",
    "can create new files with a dynamic name rather than a hardcoded static one."
   ]
  },
  {
   "cell_type": "markdown",
   "metadata": {},
   "source": [
    "[Up Next: Lesson 4 - Logging](logging.ipynb)\n",
    "\n",
    "[Go Back: Lessons 4 - Packages, Input/Output, & Exceptions](index.ipynb)"
   ]
  }
 ],
 "metadata": {
  "kernelspec": {
   "display_name": "Python 3",
   "language": "python",
   "name": "python3"
  },
  "language_info": {
   "codemirror_mode": {
    "name": "ipython",
    "version": 3
   },
   "file_extension": ".py",
   "mimetype": "text/x-python",
   "name": "python",
   "nbconvert_exporter": "python",
   "pygments_lexer": "ipython3",
   "version": "3.7.0"
  }
 },
 "nbformat": 4,
 "nbformat_minor": 2
}
