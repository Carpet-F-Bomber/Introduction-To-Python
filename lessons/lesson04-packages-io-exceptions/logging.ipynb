{
 "cells": [
  {
   "cell_type": "markdown",
   "metadata": {},
   "source": [
    "# Logging\n",
    "A lot of what we've been doing with printing output is to help debug issues but there is a better way to do that,\n",
    "logging! Logging has some inherent benefits of use versus just outputting everything. With logs, we can control whats\n",
    "being outputted, define what information we want to put, control how things look, and also setting where the logs live.\n",
    "Logging allows us to set severity levels to our output so that we can filter out things that are low level logs vs\n",
    "high priority critical issues. Having a slew of output is nice when we want to go back and parse logs to see where things\n",
    "went wrong but it can output so much data that is hard to follow actively. Instead, we can configure it so that we only \n",
    "get warnings and errors to log to the console while everything else goes to a log file (which can be looked at for \n",
    "further detail). Let's take a look at what all we can do!\n",
    "\n",
    "## Loggers\n",
    "Within logging, there are two main types of loggers that we will be introducing: `stream` and `file`. For more information\n",
    "on other types of handlers, refer to the [documentation](https://docs.python.org/3/library/logging.handlers.html)\n",
    "\n",
    "\n",
    "### StreamHandler\n",
    "A `StreamHandler`, as the name suggests, will be outputting the logs directly to some stream which can support a `write()`\n",
    "and `flush()` operation. For now, you can think of the StreamHandler as what is user to print to the console. The benefit\n",
    "of using a StreamHandler is that you can directly see the output as the program is running. The problem may occur that\n",
    "there are too many logs flying by to immediately recognize anything. People use formatting and colors to quickly distinguish\n",
    "how the programming is running. For example, any red text may indicate a failure.\n",
    "\n",
    "\n",
    "### FileHandler\n",
    "Working very much similar to a StreamHandler, a `FileHandler` writes to a specified file. Anytime the log function is\n",
    "called with a string, we log that string in a file (which can be viewed or parsed at some time).\n",
    "\n",
    "\n",
    "## Logging Levels\n",
    "As previously mentioned, the benefit of logging vs printing directly is that we can set levels to our handlers so that\n",
    "we don't end up blasting everything at the user. We may choose to only throw specific critical failure messages to the\n",
    "`StreamHandler` so that we can quickly tell if there are any failures and log everything using the `FileHandler` so that\n",
    "we can revisit the log later if needed. When it comes to logging levels, refer to the follow ordered list of importance,\n",
    "starting with the least important.\n",
    "\n",
    "1. Debug\n",
    "2. Info\n",
    "3. Warn\n",
    "4. Error\n",
    "5. Critical\n",
    "\n",
    "When specifying a level for your log, everything that is prioritized above your level will also be printed. What this\n",
    "means is that if you set the `WARN` level, you will also get `ERROR` and `CRITICAL` since they are even more higher\n",
    "priority than the other levels. Typically, this makes sense because if you want warnings of a lower level, you will\n",
    "definitely want higher level failures as well.\n",
    "\n",
    "\n",
    "## Logging Example\n",
    "Let's take a look at a logger example below:"
   ]
  },
  {
   "cell_type": "code",
   "execution_count": null,
   "metadata": {},
   "outputs": [],
   "source": [
    "import logging\n",
    "\n",
    "# create our logger\n",
    "logger = logging.getLogger('logger')\n",
    "# we need to set this here because the default will set to WARN\n",
    "logger.setLevel(logging.DEBUG)\n",
    "\n",
    "# create our handlers that we want to use with logger\n",
    "console_handler = logging.StreamHandler()\n",
    "console_handler.setLevel(logging.WARNING)\n",
    "\n",
    "file_handler = logging.FileHandler(\"log_file_name.log\")\n",
    "file_handler.setLevel(logging.DEBUG)\n",
    "\n",
    "logger.addHandler(console_handler)\n",
    "logger.addHandler(file_handler)\n",
    "\n",
    "print(logger.getEffectiveLevel())\n",
    "\n",
    "# this will show up on both\n",
    "logger.critical(\"This is a critical message\")\n",
    "\n",
    "# this will only show on the file\n",
    "logger.debug(\"This is a debug message\")"
   ]
  },
  {
   "cell_type": "markdown",
   "metadata": {},
   "source": [
    "As noted in the code above, when creating a logger, the default is set to `WARN`. So even though our `FileHandler` wants\n",
    "to go as low level as a debug, it will never get there because the logger itself doesn't capture anything below a `WARN`\n",
    "to pass on to its handlers. Your logger level will determine what is passed down to the handlers, which can have their\n",
    "own levels."
   ]
  },
  {
   "cell_type": "markdown",
   "metadata": {},
   "source": [
    "[Up Next: Lesson 4 - Exceptions](errors.ipynb)\n",
    "\n",
    "[Go Back: Lessons 4 - Packages, Input/Output, & Exceptions](index.ipynb)"
   ]
  }
 ],
 "metadata": {
  "kernelspec": {
   "display_name": "Python 3",
   "language": "python",
   "name": "python3"
  },
  "language_info": {
   "codemirror_mode": {
    "name": "ipython",
    "version": 3
   },
   "file_extension": ".py",
   "mimetype": "text/x-python",
   "name": "python",
   "nbconvert_exporter": "python",
   "pygments_lexer": "ipython3",
   "version": "3.7.0"
  }
 },
 "nbformat": 4,
 "nbformat_minor": 2
}
