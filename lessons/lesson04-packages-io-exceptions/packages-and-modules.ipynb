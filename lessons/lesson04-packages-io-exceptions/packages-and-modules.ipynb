{
 "cells": [
  {
   "cell_type": "markdown",
   "metadata": {},
   "source": [
    "# Modules and Packages\n",
    "Within python, we can use existing Python code to our benefit. You never want to re-invent the wheel. Why waste time\n",
    "building a tool when there could already be an existing solution that may do what you want AND more? As mentioned previously\n",
    "in the pip section, we are able to download existing libraries of code. We will investigate certain libraries that will\n",
    "be helpful. Beyond using other people's code, we sometimes create multiple files within a directory for python code to\n",
    "differentiate the purpose of files. For example, you may have a `hello.py` file which handles some functions to say hello.\n",
    "Similarly, you may have another file, `get_info.py`, which does other things like asking for the user to input a name and pass that\n",
    "name to other functions! In this section, let's take a closer look on how we can use libraries that others have written \n",
    "and what we have created ourselves.\n",
    "\n",
    "\n",
    "## Modules\n",
    "A module is a single python file that can be imported. For example, when we want to use `get_info.py` methods within our\n",
    "`hello.py` file, you want to import that module. The import section below will show how we can do that!\n",
    "\n",
    "\n",
    "## Packages\n",
    "A package is a directory of modules. A package gives us the opportunity to keep code organized. Packages come in handy \n",
    "so we can keep modules in one area. For example, we may have a package called `user` which has the modules `get`,\n",
    "`create`, `delete`. \n",
    "\n",
    "\n",
    "### \\_\\_init__.py\n",
    "To create a Python package, you must have a file within the directory (and all subdirectories of said package) called\n",
    "`__init__.py`. This file just has to exist, we don't need to put any information within it, nice and easy!\n",
    "\n",
    "\n",
    "## Imports\n",
    "First and foremost, after a specific file is written, you will need to start the file you want to use that behavior in\n",
    "with some imports. The `import` keyword is used to pull in modules and packages. If we have the file in the same directory,\n",
    "you can import it like the following:\n",
    "\n",
    "\n",
    "### Import Module "
   ]
  },
  {
   "cell_type": "code",
   "execution_count": null,
   "metadata": {},
   "outputs": [],
   "source": [
    "import get_info # notice that you drop the .py\n",
    "\n",
    "# we can now use the get_info module to call methods that may exist\n",
    "name = get_info.ask_for_name()"
   ]
  },
  {
   "cell_type": "markdown",
   "metadata": {},
   "source": [
    "### Import Package"
   ]
  },
  {
   "cell_type": "code",
   "execution_count": null,
   "metadata": {},
   "outputs": [],
   "source": [
    "import user # importing our whole user module\n",
    "from user import create # here within our user package, we are importing create\n",
    "\n",
    "created_user = create.create_user()\n",
    "found_user = user.get.get_user(created_user.id)"
   ]
  },
  {
   "cell_type": "markdown",
   "metadata": {},
   "source": [
    "Typically, it is good behavior to only import modules that we are going to use. We do not want to import entire packages\n",
    "if we are not going to use them. This helps keep things neat and tidy.\n",
    "\n",
    "\n",
    "### Import Aliases\n",
    "Sometimes, we may deal with packages that are not named optimally or are just too long. To remedy this, during the import,\n",
    "we can modify the name of said package or import."
   ]
  },
  {
   "cell_type": "code",
   "execution_count": null,
   "metadata": {},
   "outputs": [],
   "source": [
    "import this_is_too_long as long\n",
    "from super_package import smaller_package as sm_pack\n",
    "\n",
    "long.do_something()\n",
    "sm_pack.do_something_else()"
   ]
  },
  {
   "cell_type": "markdown",
   "metadata": {},
   "source": [
    "## Setting Up Imports\n",
    "When importing files locally, you may run into import issues depending on where you run the code from. Typically, you want\n",
    "to organize your code such that you can run everything from a root directory. This means that all your imports should be\n",
    "relative to that root directory. Take a look at our [testing example](../lesson05-testing/testing-example) to see how\n",
    "this is done! Things are organized so that you run everything within the `testing-example` directory, look at the imports\n",
    "within the files in src and the test directories."
   ]
  },
  {
   "cell_type": "markdown",
   "metadata": {},
   "source": [
    "[Up Next: Lesson 4 - Input](input.ipynb)\n",
    "\n",
    "[Go Back: Lessons 4 - Packages, Input/Output, & Exceptions](index.ipynb)"
   ]
  }
 ],
 "metadata": {
  "kernelspec": {
   "display_name": "Python 3",
   "language": "python",
   "name": "python3"
  },
  "language_info": {
   "codemirror_mode": {
    "name": "ipython",
    "version": 3
   },
   "file_extension": ".py",
   "mimetype": "text/x-python",
   "name": "python",
   "nbconvert_exporter": "python",
   "pygments_lexer": "ipython3",
   "version": "3.7.0"
  }
 },
 "nbformat": 4,
 "nbformat_minor": 2
}
