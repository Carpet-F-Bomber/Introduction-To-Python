{
 "cells": [
  {
   "cell_type": "markdown",
   "metadata": {},
   "source": [
    "# Packages, IO, & Exceptions\n",
    "* [Package & Module Basics](packages-and-modules.ipynb)\n",
    "    * Local Modules\n",
    "    * Local Packages\n",
    "        * \\_\\_init__.py \n",
    "    * Imports\n",
    "* [Input](input.ipynb)\n",
    "    * User Input\n",
    "    * Reading From Files\n",
    "        * .txt\n",
    "        * .csv\n",
    "        * .json\n",
    "            * What is JSON\n",
    "    * argparse\n",
    "        * Environment Variables\n",
    "* [Output](output.ipynb)\n",
    "    * Printing\n",
    "    * Logging \n",
    "* [Exceptions](errors.ipynb)\n",
    "    * Try/Except\n",
    "    * Handling Exceptions"
   ]
  },
  {
   "cell_type": "markdown",
   "metadata": {},
   "source": [
    "[Up Next: Lesson 4 - Package & Module Basics](packages-and-modules.ipynb)\n",
    "\n",
    "[Go Back: Lessons](../README.md)"
   ]
  }
 ],
 "metadata": {
  "kernelspec": {
   "display_name": "Python 3",
   "language": "python",
   "name": "python3"
  },
  "language_info": {
   "codemirror_mode": {
    "name": "ipython",
    "version": 3
   },
   "file_extension": ".py",
   "mimetype": "text/x-python",
   "name": "python",
   "nbconvert_exporter": "python",
   "pygments_lexer": "ipython3",
   "version": "3.7.0"
  }
 },
 "nbformat": 4,
 "nbformat_minor": 2
}
