{
 "cells": [
  {
   "cell_type": "markdown",
   "metadata": {},
   "source": [
    "# Testing\n",
    "* [Testing](pytest.ipynb)\n",
    "    * Why Test?\n",
    "    * What Is Pytest\n",
    "        * Pytest Basics\n",
    "* [Unit Tests](unit-testing-and-coverage.ipynb)\n",
    "    * Coverage\n",
    "* [Mocking](mocking.md)\n",
    "* [Integration Tests](integration-testing.ipynb)\n",
    "* [Testing Example](testing-example)"
   ]
  },
  {
   "cell_type": "markdown",
   "metadata": {},
   "source": [
    "[Up Next: Lesson 5 - Testing](pytest.ipynb)\n",
    "\n",
    "\n",
    "[Go Back: Lessons](../index.ipynb)"
   ]
  }
 ],
 "metadata": {
  "kernelspec": {
   "display_name": "Python 3",
   "language": "python",
   "name": "python3"
  },
  "language_info": {
   "codemirror_mode": {
    "name": "ipython",
    "version": 3
   },
   "file_extension": ".py",
   "mimetype": "text/x-python",
   "name": "python",
   "nbconvert_exporter": "python",
   "pygments_lexer": "ipython3",
   "version": "3.7.0"
  },
  "pycharm": {
   "stem_cell": {
    "cell_type": "raw",
    "source": [],
    "metadata": {
     "collapsed": false
    }
   }
  }
 },
 "nbformat": 4,
 "nbformat_minor": 2
}