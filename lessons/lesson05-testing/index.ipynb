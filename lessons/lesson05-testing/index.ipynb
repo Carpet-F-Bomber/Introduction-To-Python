{
 "cells": [
  {
   "cell_type": "markdown",
   "metadata": {},
   "source": [
    "# Testing\n",
    "* [Testing](pytest.md)\n",
    "    * Why Test?\n",
    "    * What Is Pytest\n",
    "        * Pytest Basics\n",
    "* [Unit Tests](unit-testing-and-coverage.md)\n",
    "    * Coverage\n",
    "* [Mocking](mocking.md)\n",
    "* [Integration Tests](integration-testing.md)\n",
    "* [Testing Example](testing-example)\n",
    "\n",
    "\\\n",
    "\\\n",
    "\\\n",
    "\\\n",
    "[Up Next: Lesson 5 - Testing](pytest.md)\n",
    "\\\n",
    "\\\n",
    "\\\n",
    "[Go Back: Lessons](../README.md)"
   ]
  }
 ],
 "metadata": {
  "kernelspec": {
   "display_name": "Python 3",
   "language": "python",
   "name": "python3"
  },
  "language_info": {
   "codemirror_mode": {
    "name": "ipython",
    "version": 3
   },
   "file_extension": ".py",
   "mimetype": "text/x-python",
   "name": "python",
   "nbconvert_exporter": "python",
   "pygments_lexer": "ipython3",
   "version": "3.7.0"
  }
 },
 "nbformat": 4,
 "nbformat_minor": 2
}
