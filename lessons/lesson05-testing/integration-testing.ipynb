{
 "cells": [
  {
   "cell_type": "markdown",
   "metadata": {},
   "source": [
    "# Integration (Functional) Testing\n",
    "Integration testing is, as the name suggests, testing the integration of various functions. If we have functions in various\n",
    "python files that all come together to create one final product, the integration test will make sure the entire product\n",
    "works holistically. Integration tests are extremely valuable to write but typically take more time in both creation and\n",
    "runtime. You may wonder why we bother writing integration tests when we already have unit tests, look at the examples\n",
    "below!\n",
    "\n",
    "## Why We Should Write Integration Tests\n",
    "When writing code, you may write the most perfect unit tests and they may ensure that every function within the program\n",
    "works perfectly as expected. It may not be until they start working together that you realize something has gone wrong.\n",
    "In the example below, both faucet and sink do their individual jobs. The faucet releases water and the sink is architecturally\n",
    "sound to collect water and displace it. Unfortunately, the two were not tested to work together. They may work individually\n",
    "but they fail as a whole.\n",
    "\n",
    "![integration-test-fail](../assets/lesson5-unit-test-integration-test-fail.gif)\n",
    "\n",
    "\n",
    "Similar to the previous example, we can see that the door and lock would seem to pass their own individual tests. But\n",
    "combining them results in something that may not have been caught.\n",
    "\n",
    "![integration-test-fail](../assets/lesson5-unit-test-integration-test-fail-2.gif) \n",
    "\n",
    "\n",
    "While both of the cases above may seem like hardware issues, this type of error is not unique to those fields. In fact,\n",
    "these errors can occur frequently in software. If two separate develops are worth on two features that are to come together,\n",
    "they may be fully in sync with how their individual features should behave holistically. Ideally, this should be handled\n",
    "by whomever is architecting the solution but it is everyone's responsibility to make sure that the whole product can\n",
    "function as a whole.\n",
    "\n",
    "## Writing Integration Tests\n",
    "When it comes to the implementation of the integration tests, they work just like unit tests. We still use pytest and\n",
    "the specifics of naming conventions and pytest benefits still apply. The only difference now is the type of tests we are\n",
    "writing. \n",
    "\n",
    "The goal of an integration test should be to test overall functionality not just an individual function. So if your program\n",
    "takes in a file and outputs another file. Your integration test should have some sample input file and validate the output\n",
    "is created and maybe even the data inside it.\n",
    "\n",
    "\\\n",
    "\\\n",
    "\\\n",
    "\\\n",
    "[Up Next: Lesson 5 - Testing Example](testing-example/README.md)\n",
    "\\\n",
    "\\\n",
    "\\\n",
    "[Go Back: Lessons 5 - Testing](README.md)"
   ]
  },
  {
   "cell_type": "code",
   "execution_count": null,
   "metadata": {},
   "outputs": [],
   "source": []
  }
 ],
 "metadata": {
  "kernelspec": {
   "display_name": "Python 3",
   "language": "python",
   "name": "python3"
  },
  "language_info": {
   "codemirror_mode": {
    "name": "ipython",
    "version": 3
   },
   "file_extension": ".py",
   "mimetype": "text/x-python",
   "name": "python",
   "nbconvert_exporter": "python",
   "pygments_lexer": "ipython3",
   "version": "3.7.0"
  }
 },
 "nbformat": 4,
 "nbformat_minor": 2
}
