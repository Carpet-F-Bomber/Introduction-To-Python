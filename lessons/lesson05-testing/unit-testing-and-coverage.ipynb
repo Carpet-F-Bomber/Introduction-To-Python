{
 "cells": [
  {
   "cell_type": "markdown",
   "metadata": {},
   "source": [
    "# Unit Testing\n",
    "Unit tests are the smallest form of tests in which individual components are tested. The goal of a unit test should be\n",
    "to be concise and test a very specific function or piece of code. It is typically discouraged to write unit tests (or\n",
    "even tests in general) that test more than one thing in a test. Unit tests are meant to be very quick so that you can\n",
    "see the results of the tests soon after making code changes.     \n",
    "\n",
    "\n",
    "## Coverage (with pytest-cov)\n",
    "Test coverage is a a metric used to determine what lines of code has been covered, this helps with determining what areas\n",
    "of code has been covered by tests. This gives some confidence in the code being written. Both `coverage` and `pytest-cov`\n",
    "libraries are very popular when it comes to calculating the code coverage. Since we are using pytest, we can take a look\n",
    "at how `pytest-cov` works. Refer to the documentation for [coverage](https://pypi.org/project/coverage/)\n",
    "\n",
    "To install `pytest-cov`, you can use the following command\n",
    "```bash\n",
    "pip install pytest-cov\n",
    "```\n",
    "\n",
    "For an example, refer to the [testing-example](testing-example) directory. Here we have two different directories,\n",
    "`src` and `tests`. `src` contains the functional code that we wrote and `tests` contains the tests against the code in\n",
    "`src`. There is also a requirements file in there which you can download from. After taking a look at the existing code\n",
    "and tests, we can take a look at how to run the tests and also see test coverage."
   ]
  },
  {
   "cell_type": "markdown",
   "metadata": {},
   "source": [
    "[Up Next: Lesson 5 - Mocking](mocking.ipynb)\n",
    "\n",
    "\n",
    "[Go Back: Lessons 5 - Testing](index.ipynb)"
   ]
  }
 ],
 "metadata": {
  "kernelspec": {
   "display_name": "Python 3",
   "language": "python",
   "name": "python3"
  },
  "language_info": {
   "codemirror_mode": {
    "name": "ipython",
    "version": 3
   },
   "file_extension": ".py",
   "mimetype": "text/x-python",
   "name": "python",
   "nbconvert_exporter": "python",
   "pygments_lexer": "ipython3",
   "version": "3.7.0"
  }
 },
 "nbformat": 4,
 "nbformat_minor": 2
}
