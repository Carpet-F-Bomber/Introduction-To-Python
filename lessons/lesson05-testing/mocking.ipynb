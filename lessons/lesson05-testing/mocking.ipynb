{
 "cells": [
  {
   "cell_type": "markdown",
   "metadata": {},
   "source": [
    "# Mocking\n",
    "When thinking about writing unit tests, we have specified that they should be concise and only test a very specific\n",
    "function. You may wonder, what about functions that call other functions? How do we test those? It comes down to what\n",
    "you are looking to test. If you want to fully test that all the functionality works, you will want to write some\n",
    "functional / integration tests below. We can also write unit tests but we use something called a `mock`. Mocks give us\n",
    "a way to test functions without having to test any other functions that may lay underneath. \n",
    "\n",
    "\n",
    "## MagicMock\n",
    "Using MagicMock, we can mock things! For example, if we wanted to test something that interacts with a JSON, we can mock\n",
    "out a JSON without having to create one. This is done using `MagicMock`"
   ]
  },
  {
   "cell_type": "code",
   "execution_count": null,
   "metadata": {},
   "outputs": [],
   "source": [
    "from mock import MagicMock\n",
    "\n",
    "def test_json_handling():\n",
    "    json_object = MagicMock()\n",
    "    # call some function with created mock\n",
    "    json_object.loads('{\"key\":\"value\"}')\n",
    "    \n",
    "    # we can now assert the mock was called\n",
    "    json_object.loads.assert_called_once()\n",
    "    # we can even assert what it was called with\n",
    "    json_object.loads.assert_called_with('{\"key\":\"value\"}')"
   ]
  },
  {
   "cell_type": "markdown",
   "metadata": {},
   "source": [
    "This by itself may not seen as useful, so we can take this concept and apply it to `patching` functions.\n",
    "\n",
    "\n",
    "## Patch\n",
    "In Python, we can mock functions. We are also given the power to return back certain data if te function is called. For\n",
    "example, we can create a mock for an existing function`get_number()` which can always return us the same number for\n",
    "testing. Let's look at how this could work:\n",
    "\n",
    "`functions_to_test.py `"
   ]
  },
  {
   "cell_type": "code",
   "execution_count": null,
   "metadata": {},
   "outputs": [],
   "source": [
    "# this will contain two functions that we want to test\n",
    "\n",
    "import random\n",
    "\n",
    "def get_number():\n",
    "    return random.randint(0, 100)\n",
    "\n",
    "def is_number_bigger_than_50():\n",
    "    number = get_number()\n",
    "    return number > 50"
   ]
  },
  {
   "cell_type": "markdown",
   "metadata": {},
   "source": [
    "We can see that we cannot immediately test the `is_number_bigger_than_50` function because it also calls the `get_number`\n",
    "function. What we can do is mock out `get_number` so that it always returns some number and we can check the logic works\n",
    "in `is_number_bigger_than_50`. "
   ]
  },
  {
   "cell_type": "code",
   "execution_count": null,
   "metadata": {},
   "outputs": [],
   "source": [
    "from mock import patch\n",
    "\n",
    "import functions_to_test\n",
    "\n",
    "# simple unit test\n",
    "def test_get_number():\n",
    "    number = functions_to_test.get_number()\n",
    "    # we know number has to be an integer\n",
    "    assert type(number) == int\n",
    "    # the randint function will return a number between 0 and 100 inclusive\n",
    "    assert number >= 0 \n",
    "    assert number <= 100   \n",
    "\n",
    "@patch('functions_to_test.get_number', return_value=5)\n",
    "def test_is_number_bigger_than_50_returns_false(mock_get_number):\n",
    "    returned_boolean = functions_to_test.is_number_bigger_than_50()\n",
    "    # check that we called the support function once\n",
    "    mock_get_number.assert_called_once()\n",
    "    \n",
    "    # since our returned value is 5, expect false\n",
    "    assert not returned_boolean\n",
    "    \n",
    "@patch('functions_to_test.get_number')\n",
    "def test_is_number_bigger_than_50_returns_true(mock_get_number):\n",
    "    # we can also specify the return value right before\n",
    "    # this is handy if we plan to call it multiple times\n",
    "    mock_get_number.return_value = 80\n",
    "    \n",
    "    returned_boolean = functions_to_test.is_number_bigger_than_50()\n",
    "    # check that we called the support function once\n",
    "    mock_get_number.assert_called_once()\n",
    "    \n",
    "    # since our returned value is 80, expect \n",
    "    assert returned_boolean"
   ]
  },
  {
   "cell_type": "markdown",
   "metadata": {},
   "source": [
    "In the example above, we specify the use of a `patch` which is used to mock out functions and we can even give a return\n",
    "value. In our example, we were mocking the `get_number` function and made it return a value of 5. From a testing perspective,\n",
    "we can now validate that the `get_number` function was called by `is_number_bigger_than_50` and that it returns `False`\n",
    "since the returned value is 5 (not > 50). In our third test, we noted that we don't need to specify the return value\n",
    "outside of the function but we can do it inside too! We are also able to mock multiple things at once. If your function\n",
    "being tested calls multiple inner functions, we can mock them all!"
   ]
  },
  {
   "cell_type": "code",
   "execution_count": null,
   "metadata": {},
   "outputs": [],
   "source": [
    "import module\n",
    "\n",
    "@patch('module.method_one', return_value=False)\n",
    "@patch('module.method_two', return_value=500)\n",
    "@patch('module.method_three', return_value='thisisastring')\n",
    "def test_module_method_four(mock_one, mock_two, mock_three):\n",
    "    # assume method_four calls all three methods above\n",
    "    result = module.method_four()\n",
    "    mock_one.assert_called_once()\n",
    "    # assume the result of method_one feeds into method_two\n",
    "    mock_two.assert_called_with(False)\n",
    "    mock_three.assert_called_once()\n",
    "    assert result == something_expected"
   ]
  },
  {
   "cell_type": "markdown",
   "metadata": {},
   "source": [
    "[Up Next: Lesson 5 - Integration Testing](integration-testing.ipynb)\n",
    "\n",
    "[Go Back: Lessons 5 - Testing](index.ipynb)"
   ]
  }
 ],
 "metadata": {
  "kernelspec": {
   "display_name": "Python 3",
   "language": "python",
   "name": "python3"
  },
  "language_info": {
   "codemirror_mode": {
    "name": "ipython",
    "version": 3
   },
   "file_extension": ".py",
   "mimetype": "text/x-python",
   "name": "python",
   "nbconvert_exporter": "python",
   "pygments_lexer": "ipython3",
   "version": "3.7.0"
  }
 },
 "nbformat": 4,
 "nbformat_minor": 2
}
