{
 "cells": [
  {
   "cell_type": "markdown",
   "metadata": {},
   "source": [
    "# Congratulations\n",
    "You made it through all of the Python modules! I hope this has been an educational experience for you.\n",
    "\n",
    "Now that you have wrangled the basics of Python development, I hope that you feel comfortable enough to embark on your\n",
    "own journey in software development and create something on your own!\n",
    "\n",
    "\n",
    "# Next Steps\n",
    "As someone who has gone through this material, I would love to get feedback on anything that can be improved for this \n",
    "documentation. Anything from grammatical errors to new topics, please submit a `Pull Request` for any suggested changes\n",
    "and I will tackle that. \n",
    "\n",
    "For your own growth, I highly recommend creating personal programming projects and putting them up on GitHub. Whether\n",
    "it is for a portfolio that you can show employers or because you want to keep learning, creating and working on projects\n",
    "is an excellent way you can keep improving your skills. If you can't seem to come up with an idea, there are plenty of \n",
    "open projects on GitHub that you can contribute to yourself. Here is a list of [repositories](https://github.com/MunGell/awesome-for-beginners)\n",
    "you can contribute to today! \n",
    "\n",
    "\n",
    "# Thank You\n",
    "Thank you for taking the time to go through this documentation with me and allowing me to be a part of your educational\n",
    "experience. I wish you the best of luck!   "
   ]
  }
 ],
 "metadata": {
  "kernelspec": {
   "display_name": "Python 3",
   "language": "python",
   "name": "python3"
  },
  "language_info": {
   "codemirror_mode": {
    "name": "ipython",
    "version": 3
   },
   "file_extension": ".py",
   "mimetype": "text/x-python",
   "name": "python",
   "nbconvert_exporter": "python",
   "pygments_lexer": "ipython3",
   "version": "3.7.0"
  }
 },
 "nbformat": 4,
 "nbformat_minor": 2
}
