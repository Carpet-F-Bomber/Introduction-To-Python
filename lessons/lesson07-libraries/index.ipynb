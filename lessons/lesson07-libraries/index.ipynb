{
 "cells": [
  {
   "cell_type": "markdown",
   "metadata": {},
   "source": [
    "# Databases\n",
<<<<<<< HEAD:lessons/lesson07-libraries/index.ipynb
    "* [Why Use Libraries](intro-to-libraries.ipynb)\n",
    "    * Why Do We Use Libraries\n",
    "    * Examples Of Common Libraries\n",
    "* [Building A Library](build-a-library.ipynb)\n",
    "    * Let's Build Our Own Library\n",
    "    * Deploying To PyPI"
   ]
  },
  {
   "cell_type": "markdown",
   "metadata": {},
   "source": [
    "[Up Next: Lesson 7 - Intro To Libraries](intro-to-libraries.ipynb)\n",
    "\n",
    "[Go Back: Lessons](../index.ipynb)"
=======
    "A database is a system used for storing information, typically optimized to store lots of data and make items easy to access.\n",
    "\n",
    "## Why Use A Database\n",
    "Since databases can store large amounts of information efficiently, it is very quick and easy to find information . The benefit of using databases is that it is easy to add new data and to edit or delete old data. This also allows us to store information when programs aren't actively running. As we explored in the output section previously, we discussed using JSON and CSV to store data in specific formats. Databases are basically a more optimized version to store much more information. \n",
    "\n",
    "\n",
    "## Types of Databases\n",
    "There are various types of databases that optimized to do certain things really well. Let's take a look at some popular options:\n",
    "\n",
    "Relational Database:\n",
    " \n",
    "\n",
    "Document Database:\n",
    "\n",
    "\n",
    "Graph Database:\n",
    "\n",
    "\n",
    "NoSQL Database:\n",
    "\n",
    "\n",
    "\n",
    "To keep things simple, we will specifically focus on using a relational SQL database"
   ]
  },
  {
   "cell_type": "markdown",
   "metadata": {},
   "source": [
    "[Up Next: Lesson 7 - Object-Relational Management](ORM.ipynb)\n",
    "\n",
    "[Go Back: Lessons 7 - Databases](index.ipynb-p)"
>>>>>>> a51b08c7a8f3295a76512552a53b28a0fa3919aa:lessons/lesson07-databases/intro-to-databases.ipynb
   ]
  }
 ],
 "metadata": {
  "kernelspec": {
   "display_name": "Python 3",
   "language": "python",
   "name": "python3"
  },
  "language_info": {
   "codemirror_mode": {
    "name": "ipython",
    "version": 3
   },
   "file_extension": ".py",
   "mimetype": "text/x-python",
   "name": "python",
   "nbconvert_exporter": "python",
   "pygments_lexer": "ipython3",
   "version": "3.7.3"
  }
 },
 "nbformat": 4,
 "nbformat_minor": 2
}
