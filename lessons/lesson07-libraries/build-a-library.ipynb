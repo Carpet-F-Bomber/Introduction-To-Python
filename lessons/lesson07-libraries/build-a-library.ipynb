{
 "cells": [
  {
   "cell_type": "markdown",
   "metadata": {},
   "source": [
    "# Build A Library\n",
    "\n",
    "In this section, we'll be going over the process in which we build a Python library! There's a lot going on here so we'll be using some existing files that I've created to make this process simplistic but in the real world, you can update the functionality and some small configurations to push out your own library that does much more! \n",
    "\n",
    "In our example, we'll be creating a library that acts as a Magic 8-Ball. Before we continue, take a look at the `ask_ron` directory to look at how our logic works. We're using simple Object Oriented Programming Principles here to organize our code. Specifically look at the following files:\n",
    "* [Ask Object](ask_ron/ask_ron/ask.py)\n",
    "* [Ask Init](ask_ron/ask_ron/__init__.py)\n",
    "\n",
    "You'll also note that we have a tests folder which are some very simple tests that ensure the functionality of what we've written. If you plan to make any modifications to this code, try to ensure that you write tests to guarantee that the new functionality works as expected!\n",
    "\n",
    "## setup.py\n",
    "A lot of the magic here is handled by some Python libraries and the `setup.py` configuration file. As a real functioning example, please take a look [here](ask_ron/ask_ron/setup.py). The file contains some specifications on what needs to be configured such that it can be used by anyone else. Typically, we also include some information such as the library name, author, README, python/package requirements, etc. In the example I've provided, you'll see that I have named the package `ask_ron`, specified a version, given a short description, attached my README as a longer description, made Python3 a requirement, and set up some command line functionality (`console_scripts`)\n",
    "\n",
    "\n",
    "# Building The Package\n",
    "Since I've left the `ask_ron` folder here, let's walk through the process of build and deploying this exact library (feel free to make any modifications) on your own PyPI account. [PyPI](https://pypi.org/) is a giant repository where Python packages can be uploaded and downloaded by others. By default, this is where `pip` looks to download packages\n",
    "\n",
    "Let's begin the process of building the package. To do this, you will need to download two packages. You may already have them by default but run the command to make sure any dependencies are installed as well\n",
    "```bash\n",
    "pip install setuptools wheel\n",
    "```\n",
    "\n",
    "Now that you have everything required, let's actually build the package.\n",
    "\n",
    "```bash\n",
    "python3 setup.py sdist bdist_wheel\n",
    "```\n",
    "\n",
    "You'll notice that you now have a `dist` folder which contains two items:\n",
    "* package_name-version-none-any.whl\n",
    "    * this wheel file can be used to manually install your package\n",
    "    * this is very helpful to test/debug your package before uploading it)\n",
    "* package_name-version.tar.gz\n",
    "    * this is a source distribution (basically metadata and source files)\n",
    "\n",
    "\n",
    "## Testing Locally\n",
    "As mentioned above, after building the package, we can actually locally install the package and test it out. To do this, you can run the following:\n",
    "```bash\n",
    "pip install dist/package_name-version-none-any.whl (replace this with the actual name)\n",
    "```\n",
    "\n",
    "This should install your package as a Python package and you should be able to import it as a library or run it on the command line. If you haven't made any changes to it yet, please refer to the [README](ask_ron/README.md) for some details on usage\n",
    "\n",
    "\n",
    "## Test via TestPyPI\n",
    "Once you have tested it locally, let's try to upload it to a repository so that this code can be shared. Before we deploy it for real, we'll test out our deployment on a test repository to make sure that everything is working as expected. \n",
    "\n",
    "Firstly, you'll need an account on [PyPi](https://pypi.org/) and [TestPyPI](https://test.pypi.org/), make sure you go ahead and register an account there. You will also need one more Python package that is used to upload the Python package\n",
    "```bash\n",
    "pip install twine\n",
    "```\n",
    "\n",
    "Once you've done so and built your package locally, let's upload it to TestPyPI\n",
    "```bash\n",
    "python3 -m twine upload --repository testpypi dist/*\n",
    "```\n",
    "\n",
    "Once the upload has been completed, let's try downloading the package to make sure the deploy worked\n",
    "```bash\n",
    "python3 -m pip install --index-url https://test.pypi.org/simple/ --no-deps <package_name_here>\n",
    "```\n",
    "\n",
    "You should now be able to use the package just as expected\n",
    "\n",
    "\n",
    "## Deploy To PyPI\n",
    "Now that we have built a package, tested it locally and tested the deploy process on TestPyPi; let's do it for real! The last step is very simple, we just remove the `index-url` from the previous command\n",
    "```bash\n",
    "python3 -m twine upload dist/*\n",
    "```\n",
    "\n",
    "Congratulations, now you have a Python package that's available on PyPi that anyone can install and use!"
   ]
  },
  {
   "cell_type": "markdown",
   "metadata": {},
   "source": [
    "[Up Next: Lesson 8 - REST & Flask](../lesson08-rest-flask/index.ipynb)\n",
    "\n",
    "[Go Back: Lessons 7 - Libraries](index.ipynb)"
   ]
  }
 ],
 "metadata": {
  "kernelspec": {
   "display_name": "Python 3",
   "language": "python",
   "name": "python3"
  },
  "language_info": {
   "codemirror_mode": {
    "name": "ipython",
    "version": 3
   },
   "file_extension": ".py",
   "mimetype": "text/x-python",
   "name": "python",
   "nbconvert_exporter": "python",
   "pygments_lexer": "ipython3",
   "version": "3.7.0"
  },
  "pycharm": {
   "stem_cell": {
    "cell_type": "raw",
    "metadata": {
     "collapsed": false
    },
    "source": []
   }
  }
 },
 "nbformat": 4,
 "nbformat_minor": 2
}
