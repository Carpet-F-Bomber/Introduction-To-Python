{
 "cells": [
  {
   "cell_type": "markdown",
   "metadata": {},
   "source": [
    "# Build A Library\n",
    "\n",
    "In this section, we'll be going over the process in which we build a Python library! There's a lot going on here so we'll be using some existing files that I've created to make this process simplistic but in the real world, you can update the functionality and some small configurations to push out your own library that does much more! \n",
    "\n",
    "In our example, we'll be creating a library that acts as a Magic 8-Ball. Before we continue, take a look at the `magic-ball` directory to look at how our logic works. We're using simple Object Oriented Programming Principles here to organize our code. Specifically look at the following files:\n",
    "* Magic Ball Model\n",
    "* Magic Ball Logic\n",
    "* Magic Ball Tests\n",
    "\n",
    "## setup.py\n",
    "A lot of the magic here is handled by some Python libraries and the `setup.py` configuration file. \n",
    "https://packaging.python.org/tutorials/packaging-projects/\n",
    "python3 -m pip install --user --upgrade setuptools wheel twine\n",
    "python3 setup.py sdist bdist_wheel\n",
    "\n",
    "# Building The Package\n",
    "\n",
    "## Test via TestPyPI\n",
    "python3 -m twine upload --repository testpypi dist/*\n",
    "python3 -m pip install --index-url https://test.pypi.org/simple/ --no-deps example-pkg-YOUR-USERNAME-HERE\n",
    "\n",
    "## Deploy To PyPI\n",
    "python3 -m twine upload dist/*\n",
    "\n"
   ]
  },
  {
   "cell_type": "markdown",
   "metadata": {},
   "source": [
    "[Up Next: Lesson 8 - REST & Flask](../lesson08-rest-flask/index.ipynb)\n",
    "\n",
    "[Go Back: Lessons 7 - Libraries](index.ipynb)"
   ]
  }
 ],
 "metadata": {
  "kernelspec": {
   "display_name": "Python 3",
   "language": "python",
   "name": "python3"
  },
  "language_info": {
   "codemirror_mode": {
    "name": "ipython",
    "version": 3
   },
   "file_extension": ".py",
   "mimetype": "text/x-python",
   "name": "python",
   "nbconvert_exporter": "python",
   "pygments_lexer": "ipython3",
   "version": "3.7.0"
  },
  "pycharm": {
   "stem_cell": {
    "cell_type": "raw",
    "source": [],
    "metadata": {
     "collapsed": false
    }
   }
  }
 },
 "nbformat": 4,
 "nbformat_minor": 2
}