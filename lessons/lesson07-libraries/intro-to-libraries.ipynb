{
 "cells": [
  {
   "cell_type": "markdown",
   "metadata": {},
   "source": [
    "# Why Use Libraries\n",
    "\n",
    "As we saw before, we can build Python packages so that we can avoid duplication of code and create something shareable! In this module, we'll cover some of the more popular libraries that can be used to not re-invent the wheel but also use some tools that help the development process itself. In this module, we'll walk through creating our own library that can be downloaded by anyone else through the usage of the `pip` tool. Using this knowledge, you'll be able to create more tools that can gain traction among other developers!\n",
    "\n",
    "# Common Libraries That We've Used\n",
    "Through the earlier modules, we've already used some existing libraries, some that come built-in with Python and some that we had to manually install using the `pip` tool. Let's rewind a bit and take a look at some of the ones we've used\n",
    "* [JSON](https://docs.python.org/3/library/json.html) (comes built-in)\n",
    "    * We used this library to help convert dictionary data structures into JSON files and also read from files to create the dictionaries\n",
    "    * Given how popular JSON is, think about how ridiculous it would be if you had to write a parser file EVERY time you wanted to interact with JSON, this is why we use existing libraries so we don't need to \"re-invent the wheel\"\n",
    "* [pytest](https://docs.pytest.org/en/stable/) (external installation required)\n",
    "    * In the testing section, we used pytest to ensure that whatever code we wrote has a higher confidence of working due to our unit/integration tests\n",
    "* [virtualenv](https://docs.python.org/3/tutorial/venv.html) (external installation required)\n",
    "    * We used virtualenv to create virtual environments to help us separate out our various projects\n",
    "    * We're able to have different dependencies for different projects without having any crossover\n",
    "\n",
    "## Libraries For You To Explore\n",
    "Here I'll list some other libraries that we may follow up later on the course but I highly recommend that you take a look and see if you can implement it into your various projects!\n",
    "* [black](https://github.com/psf/black) (external installation required)\n",
    "    * black is an amazing python library that handles formatting \n",
    "* [pandas](https://pandas.pydata.org/docs/) (external installation required)\n",
    "    * A very popular python library used for data analysis\n",
    "* [Flask](https://flask.palletsprojects.com/en/1.1.x/) (external installation required)\n",
    "    * Flask is a very popular web framework used to create websites\n",
    "    * We will explore some basic Flask functionality later in the course!"
   ]
  },
  {
   "cell_type": "markdown",
   "metadata": {},
   "source": [
    "[Up Next: Lesson 7 - Build A Library](build-a-library.ipynb)\n",
    "\n",
    "[Go Back: Lessons 7 - Libraries](index.ipynb)"
   ]
  }
 ],
 "metadata": {
  "kernelspec": {
   "display_name": "Python 3",
   "language": "python",
   "name": "python3"
  },
  "language_info": {
   "codemirror_mode": {
    "name": "ipython",
    "version": 3
   },
   "file_extension": ".py",
   "mimetype": "text/x-python",
   "name": "python",
   "nbconvert_exporter": "python",
   "pygments_lexer": "ipython3",
   "version": "3.7.0"
  }
 },
 "nbformat": 4,
 "nbformat_minor": 2
}
