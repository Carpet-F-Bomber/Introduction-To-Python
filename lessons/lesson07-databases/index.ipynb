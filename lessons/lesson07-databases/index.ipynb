{
 "cells": [
  {
   "cell_type": "markdown",
   "metadata": {},
   "source": [
    "# Databases\n",
    "* [Intro To Databases](intro-to-databases.ipynb)\n",
    "    * Why Do We Use Databases\n",
    "    * Types of Databases\n",
    "* [ORM](ORM.ipynb)\n",
    "    * What Is An ORM\n",
    "    * Why Use An ORM    \n",
    "* [SQLAlchemy](SQLAlchemy.ipynb)\n",
    "    * Installation / Setup\n",
    "    * Creating Models\n",
    "    * Database Basics (Initial Setup / Connection)\n",
    "    * Interacting With Tables (Create, Read, Update, Delete)"
   ]
  },
  {
   "cell_type": "markdown",
   "metadata": {},
   "source": [
    "[Up Next: Lesson 7 - Intro To Databases](intro-to-databases.ipynb)\n",
    "\n",
    "[Go Back: Lessons](../index.ipynb)"
   ]
  }
 ],
 "metadata": {
  "kernelspec": {
   "display_name": "Python 3",
   "language": "python",
   "name": "python3"
  },
  "language_info": {
   "codemirror_mode": {
    "name": "ipython",
    "version": 3
   },
   "file_extension": ".py",
   "mimetype": "text/x-python",
   "name": "python",
   "nbconvert_exporter": "python",
   "pygments_lexer": "ipython3",
   "version": "3.7.3"
  },
  "pycharm": {
   "stem_cell": {
    "cell_type": "raw",
    "source": [],
    "metadata": {
     "collapsed": false
    }
   }
  }
 },
 "nbformat": 4,
 "nbformat_minor": 2
}