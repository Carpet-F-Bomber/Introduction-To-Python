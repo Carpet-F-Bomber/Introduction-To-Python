{
 "cells": [
  {
   "cell_type": "markdown",
   "metadata": {},
   "source": [
    "# Inheritance\n",
    "In the previous section, we covered what goes into creating a class. Creating and using classes as well as their methods for them can be beneficial in our programming tasks but what happens when we create objects that are similar? We should strive to organize classes in a way such that common methods can be shared and don't need to be re-created for every class. This is where inheritance comes into play, we can create a _base_ (or parent) class which is used to create an _inherited_ (or child) class. As mentioned in the earlier section, let's use the example of vehicles\n",
    "\n",
    "## Parent & Child Classes"
   ]
  },
  {
   "cell_type": "code",
   "execution_count": 4,
   "metadata": {},
   "outputs": [
    {
     "name": "stdout",
     "output_type": "stream",
     "text": [
      "I am a Vehicle with 16 wheels\n",
      "Vroom VroomVroom VroomVroom VroomVroom VroomVroom VroomVroom VroomVroom VroomVroom VroomVroom VroomVroom VroomVroom VroomVroom VroomVroom VroomVroom VroomVroom VroomVroom Vroom\n",
      "I am a Vehicle with 2 wheels\n",
      "SkrrrrrtSkrrrrrt\n"
     ]
    }
   ],
   "source": [
    "class Vehicle:\n",
    "    def __init__(self, wheels=4):\n",
    "        self._wheels = wheels\n",
    "    \n",
    "    def __str__(self):\n",
    "        return f\"I am a Vehicle with {self._wheels} wheels\"\n",
    "        \n",
    "    def drive(self):\n",
    "        print(\"Vroom Vroom\" * self._wheels)\n",
    "\n",
    "class Motorbike(Vehicle):\n",
    "    def __init__(self, wheels=2, bikestand_active=False):\n",
    "        self._wheels = wheels\n",
    "        self.bikestand_active = bikestand_active\n",
    "        \n",
    "    def drive(self):\n",
    "        print(\"Skrrrrrt\" * self._wheels)\n",
    "        \n",
    "big_truck = Vehicle(wheels=16)\n",
    "print(big_truck)\n",
    "big_truck.drive()\n",
    "\n",
    "bike = Motorbike()\n",
    "print(bike)\n",
    "bike.drive()"
   ]
  },
  {
   "cell_type": "markdown",
   "metadata": {},
   "source": [
    "In the example above, you can tell that there are different `__init__` methods to create the two classes but since the Motorbike _inherits_ the vehicle, it doesn't NEED to define the `__str__` function, it can just use the parents. As you may suspect, if the Vehicle class had more functions, the Motorbike would be able to inherit/use them without issue. We can also see that when the child has a same-named method defined as the parent, when calling it, only the child method is run. You also have the ability to run the parent's implementation by the use of `super`\n",
    "\n",
    "## super()"
   ]
  },
  {
   "cell_type": "code",
   "execution_count": 8,
   "metadata": {},
   "outputs": [
    {
     "name": "stdout",
     "output_type": "stream",
     "text": [
      "I am a Vehicle with 2 wheels\n",
      "SkrrrrrtSkrrrrrt\n",
      "Vroom VroomVroom Vroom\n"
     ]
    }
   ],
   "source": [
    "class Vehicle:\n",
    "    def __init__(self, wheels=4):\n",
    "        self._wheels = wheels\n",
    "    \n",
    "    def __str__(self):\n",
    "        return f\"I am a Vehicle with {self._wheels} wheels\"\n",
    "        \n",
    "    def drive(self):\n",
    "        print(\"Vroom Vroom\" * self._wheels)\n",
    "\n",
    "class Motorbike(Vehicle):\n",
    "    def __init__(self, wheels=2, bikestand_active=False):\n",
    "        self._wheels = wheels\n",
    "        self.bikestand_active = bikestand_active\n",
    "        \n",
    "    def drive(self):\n",
    "        print(\"Skrrrrrt\" * self._wheels)\n",
    "        super().drive()\n",
    "        \n",
    "bike = Motorbike()\n",
    "print(bike)\n",
    "bike.drive()"
   ]
  },
  {
   "cell_type": "markdown",
   "metadata": {},
   "source": [
    "In the drive method, we used super() to call the drive method of the parent. Thus, after printing `SkrrrrrtSkrrrrrt`, we also run the parent's method to print out `Vroom VroomVroom Vroom`\n",
    "\n",
    "Do note that `Vroom Vroom` only prints twice because `self._wheels` still references 2 for the bike. "
   ]
  },
  {
   "cell_type": "markdown",
   "metadata": {},
   "source": [
    "[Up Next: Lesson 7 - Databases](../lesson07-databases/index.ipynb)\n",
    "\n",
    "[Go Back: Lessons 6 - Object Oriented Programming](index.ipynb)"
   ]
  }
 ],
 "metadata": {
  "kernelspec": {
   "display_name": "Python 3",
   "language": "python",
   "name": "python3"
  },
  "language_info": {
   "codemirror_mode": {
    "name": "ipython",
    "version": 3
   },
   "file_extension": ".py",
   "mimetype": "text/x-python",
   "name": "python",
   "nbconvert_exporter": "python",
   "pygments_lexer": "ipython3",
   "version": "3.7.3"
  }
 },
 "nbformat": 4,
 "nbformat_minor": 2
}
