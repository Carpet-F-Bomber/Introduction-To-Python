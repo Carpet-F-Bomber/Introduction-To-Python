{
 "cells": [
  {
   "cell_type": "markdown",
   "metadata": {},
   "source": [
    "# Object Oriented Programming\n",
    "Object oriented programming is type of programming in which data structures are king. Everything is written and designed\n",
    "around \"objects\" which contain data and methods for their behavior. For example, you can think of a Car as an object. The\n",
    "car has specific details about it that make it a car and it can perform certain functions. For example, a car has an\n",
    "engine, wheels, a radio, air conditioning. These attributes can make up a car. A car can also have functions like stall,\n",
    "drive, turn, etc. You can write many different functions around a car.   \n",
    "\n",
    "\n",
    "## Pillars of OOP\n",
    "There are four pillars of object oriented programming\n",
    "- Abstraction\n",
    "- Encapsulation\n",
    "- Inheritance\n",
    "- Polymorphism\n",
    "\n",
    "### Abstraction\n",
    "Abstraction is the idea of hiding internal implementation details. Let's return to the example of a car again. When you\n",
    "drive a car, you don't need to know how every single thing within the car works. Even if you don't know how the transmission\n",
    "works, you are still able to understand the concept of a car and how to drive it. Similarly, when creating objects, we\n",
    "should be aware of what the object can do but we don't need to bog down the user with details on how everything was\n",
    "implemented\n",
    "\n",
    "### Encapsulation\n",
    "Encapsulation is the practice of keeping specific fields within a class as private and only allowing access to them via\n",
    "public methods. This way, the user is not able to maliciously interact with the data in the class but must use the methods\n",
    "that were specifically written for it. For example, let's think of a car that has a wheel attribute. If you allowed someone\n",
    "to do anything with the wheel, there are many dangerous things that a person can do with that wheel. If you only allowed\n",
    "the user to specifically interact with the wheel for it's pre-determined purpose, you can avoid running into bad scenarios.\n",
    "Depending on the field, the programmer can determine if they want it to be read-only, both read and write accessible or\n",
    "private\n",
    "\n",
    "### Inheritance\n",
    "Inheritance is a concept that allows us to create objects from [a] base object(s). If we go back to the car example, you\n",
    "can think of a base class as Vehicle and it's subclass (the class that does the inheriting) as a Car. You may be wondering\n",
    "why we even use inheritance. The goal here is to minimize copying similar functions between Objects that act similar. \n",
    "For example, if we want to use multiple objects such as a Truck, Car, Rickshaw, we'll need to instantiate each Object\n",
    "with specific data and some methods. You may notice that all of these have wheels and should have some similar methods \n",
    "(drive, park, etc). Instead of implementing these same methods for every single object, we can create these methods within\n",
    "the base class. When we inherit from the base class, each of the subclasses will have access to that same method \n",
    "\n",
    "### Polymorphism\n",
    "Polymorphism builds off the same concept as inheritance but the difference here is in the behavior. We use polymorphism\n",
    "to refer to a similar method but we can overload/override a base class' method. Again, in the car example, let's think\n",
    "about the Vehicle example where we implement some method called print. In the print, we just print out \"I'm A Vehicle!\". \n",
    "As an example of overriding, a Car class may have a print method which prints out \"I'm A Car!\". This is called overriding.\n",
    "Overloading is similar to having its own method but with varying parameters. Let's take a look at the following two\n",
    "methods: \n",
    "\n",
    "* play_music(radio) [Vehicle] \n",
    "* play_music(aux, cd, radio) [Car]\n",
    "\n",
    "By default, the Vehicle only has the support to play music from the radio. Whereas, a Car may have the option to pull\n",
    "from various options to determine which is the first available \n"
   ]
  },
  {
   "cell_type": "markdown",
   "metadata": {},
   "source": [
    "[Up Next: Lesson 6 - Classes](classes.ipynb)\n",
    "\n",
    "[Go Back: Lessons 6 - Object Oriented Programming](index.ipynb)"
   ]
  }
 ],
 "metadata": {
  "kernelspec": {
   "display_name": "Python 3",
   "language": "python",
   "name": "python3"
  },
  "language_info": {
   "codemirror_mode": {
    "name": "ipython",
    "version": 3
   },
   "file_extension": ".py",
   "mimetype": "text/x-python",
   "name": "python",
   "nbconvert_exporter": "python",
   "pygments_lexer": "ipython3",
   "version": "3.7.3"
  },
  "pycharm": {
   "stem_cell": {
    "cell_type": "raw",
    "metadata": {
     "collapsed": false
    },
    "source": []
   }
  }
 },
 "nbformat": 4,
 "nbformat_minor": 2
}
