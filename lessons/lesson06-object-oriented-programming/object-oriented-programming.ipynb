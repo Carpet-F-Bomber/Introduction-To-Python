{
 "cells": [
  {
   "cell_type": "markdown",
   "metadata": {},
   "source": [
    "# Object Oriented Programming\n",
    "Object oriented programming is type of programming in which data structures are king. Everything is written and designed\n",
    "around \"objects\" which contain data and methods for their behavior. For example, you can think of a Car as an object. The\n",
    "car has specific details about it that make it a car and it can perform certain functions. For example, a car has an\n",
    "engine, wheels, a radio, air conditioning. These attributes can make up a car. A car can also have functions like stall,\n",
    "drive, turn, etc. You can write many different functions around a car.   \n",
    "\n",
    "\n",
    "## Pillars of OOP\n",
    "There are four pillars of object oriented programming\n",
    "- Abstraction\n",
    "- Encapsulation\n",
    "- Inheritance\n",
    "- Polymorphism\n",
    "\n",
    "### Abstraction\n",
    "Abstraction is the concept of \n",
    "\n",
    "### Encapsulation\n",
    "The goal of encapsulation is to avoid leaking data that is not necessary and should be kept private. For example, when we instantiate classes, we can give them variables to keep track of various things. In certain cases, these variables should not be able to be accessed by your end-user as they may be able to see data that they should not be able to access/modify. From a security perspective, when using classes, you should be careful in determining what aspects of your Object should be available and modifiable by other classes. \n",
    "\n",
    "### Inheritance\n",
    "Inheritance is a concept that is used when using object oriented programming to avoid duplication of code. The goal is to create a `parent` class that contains methods that all of its children will use. Think of a `Car` as an object. You may have a parent `Car` object which can be inherited by its children. You can create various methods like `drive`, `park`, and other methods which will be required by the child classes. The benefit here is that when you create the child classes, you will not need to redefine how the common methods function, unless they are different.\n",
    "\n",
    "### Polymorphism\n",
    "\n",
    "\n",
    "## Classes\n",
    "\n",
    "\n",
    "## Inheritance"
   ]
  },
  {
   "cell_type": "markdown",
   "metadata": {},
   "source": [
    "[Up Next: Lesson 6 - Classes](classes.ipynb)\n",
    "\n",
    "[Go Back: Lessons 6 - Object Oriented Programming](index.ipynb)"
   ]
  }
 ],
 "metadata": {
  "kernelspec": {
   "display_name": "Python 3",
   "language": "python",
   "name": "python3"
  },
  "language_info": {
   "codemirror_mode": {
    "name": "ipython",
    "version": 3
   },
   "file_extension": ".py",
   "mimetype": "text/x-python",
   "name": "python",
   "nbconvert_exporter": "python",
   "pygments_lexer": "ipython3",
   "version": "3.7.0"
  }
 },
 "nbformat": 4,
 "nbformat_minor": 2
}
