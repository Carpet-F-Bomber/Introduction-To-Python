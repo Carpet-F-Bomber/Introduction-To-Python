{
 "cells": [
  {
   "cell_type": "markdown",
   "metadata": {},
   "source": [
    "# Object Oriented Programming\n",
    "Object oriented programming is type of programming in which data structures are king. Everything is written and designed\n",
    "around \"objects\" which contain data and methods for their behavior. For example, you can think of a Car as an object. The\n",
    "car has specific details about it that make it a car and it can perform certain functions. For example, a car has an\n",
    "engine, wheels, a radio, air conditioning. These attributes can make up a car. A car can also have functions like stall,\n",
    "drive, turn, etc. You can write many different functions around a car.   \n",
    "\n",
    "\n",
    "## Pillars of OOP\n",
    "There are four pillars of object oriented programming\n",
    "- Abstraction\n",
    "- Encapsulation\n",
    "- Inheritance\n",
    "- Polymorphism\n",
    "\n",
    "### Abstraction\n",
    "Abstraction is \n",
    "\n",
    "### Encapsulation\n",
    "\n",
    "\n",
    "### Inheritance\n",
    "\n",
    "\n",
    "### Polymorphism\n",
    "\n",
    "\n",
    "## Classes\n",
    "\n",
    "\n",
    "## Inheritance"
   ]
  },
  {
   "cell_type": "markdown",
   "metadata": {},
   "source": [
    "[Up Next: Lesson 6 - Classes](classes.ipynb)\n",
    "\n",
    "[Go Back: Lessons 6 - Object Oriented Programming](index.ipynb)"
   ]
  }
 ],
 "metadata": {
  "kernelspec": {
   "display_name": "Python 3",
   "language": "python",
   "name": "python3"
  },
  "language_info": {
   "codemirror_mode": {
    "name": "ipython",
    "version": 3
   },
   "file_extension": ".py",
   "mimetype": "text/x-python",
   "name": "python",
   "nbconvert_exporter": "python",
   "pygments_lexer": "ipython3",
   "version": "3.7.0"
  }
 },
 "nbformat": 4,
 "nbformat_minor": 2
}
