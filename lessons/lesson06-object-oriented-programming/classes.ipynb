{
 "cells": [
  {
   "cell_type": "markdown",
   "metadata": {},
   "source": [
    "# Classes\n",
    "A class is just another name for an Object\n",
    "\n",
    "## Creating A Class\n",
    "When creating classes, we have two main things to consider. The `__init__` function and the self keyword. The self keyword used within the class to refer to the class itself. For example, if a Car has an attribute of tires, you would access that within the class as `self.tires`. When referencing it from outside the Car class, you would see it as `Car.tires`\n",
    "Let's take a look at how these are built!\n",
    "\n",
    "### \\_\\_init__\n",
    "As the name implies, the init refers to the initialization of the class. When we create the class, we typically have some attributes to give it. Thinking in our Car example, we may want to specify:\n",
    "* make\n",
    "* model\n",
    "* is_electric\n",
    "* year\n",
    "\n",
    "Given these data fields, we can create the function like below:"
   ]
  },
  {
   "cell_type": "code",
   "execution_count": 4,
   "metadata": {},
   "outputs": [],
   "source": [
    "class Car:\n",
    "    def __init__(self, make, model, is_electric, year):\n",
    "        self.make = make\n",
    "        self.model = model\n",
    "        self.is_electric = is_electric\n",
    "        self.year = year"
   ]
  },
  {
   "cell_type": "markdown",
   "metadata": {},
   "source": [
    "### self\n",
    "As mentioned previously, the self name is reserved to specify the class itself. Typically, class methods all require the self in the method creation.\n",
    "\n",
    "### Attributes\n",
    "Attributes are data variables that are assigned to the class. In the example above, we are assigning attributes to the Car class from the parameters. We can refer to a classes attributes with a period after the class name followed by the attribute name. Check out the example below"
   ]
  },
  {
   "cell_type": "code",
   "execution_count": 2,
   "metadata": {},
   "outputs": [
    {
     "name": "stdout",
     "output_type": "stream",
     "text": [
      "A 2020 Tesla 3 that is electric\n",
      "A 2009 Honda Accord that is gas powered\n"
     ]
    }
   ],
   "source": [
    "class Car:\n",
    "    def __init__(self, make, model, is_electric, year):\n",
    "        self.make = make\n",
    "        self.model = model\n",
    "        self.is_electric = is_electric\n",
    "        self.year = year\n",
    "\n",
    "    def __str__(self):\n",
    "        if self.is_electric:\n",
    "            return f\"A {self.year} {self.make} {self.model} that is electric\"\n",
    "        else:\n",
    "            return f\"A {self.year} {self.make} {self.model} that is gas powered\"            \n",
    "\n",
    "tesla_model_three = Car(make=\"Tesla\", model=\"3\", is_electric=True, year=2020)\n",
    "honda_accord = Car(make=\"Honda\", model=\"Accord\", is_electric=False, year=2009)\n",
    "\n",
    "print(tesla_model_three)\n",
    "print(honda_accord)"
   ]
  },
  {
   "cell_type": "markdown",
   "metadata": {},
   "source": [
    "When running the code above, you'll notice that we use the `__str__` method to print out some details about the car. When setting and calling the attributes of the Car class, we use the period to specify that we want an attribute\n",
    "\n",
    "We can also get/update the attributes by referencing them. This can be a bit dangerous though"
   ]
  },
  {
   "cell_type": "code",
   "execution_count": 8,
   "metadata": {},
   "outputs": [
    {
     "name": "stdout",
     "output_type": "stream",
     "text": [
      "A 2020 Tesla 5 that is electric\n"
     ]
    }
   ],
   "source": [
    "tesla_model_three.model = 5\n",
    "\n",
    "print(tesla_model_three)"
   ]
  },
  {
   "cell_type": "markdown",
   "metadata": {},
   "source": [
    "Looking at the example above, you can see that we are allowed to just change attributes which define the class. As the programmer, you may want to have further control on how this is done.\n",
    "\n",
    "#### Properties\n",
    "To have further control on how attributes are controlled, we can take leverage properties. You can think of these as attributes that have further control on how they are accessed and/or updated."
   ]
  },
  {
   "cell_type": "code",
   "execution_count": 1,
   "metadata": {},
   "outputs": [
    {
     "name": "stdout",
     "output_type": "stream",
     "text": [
      "A 2020 Tesla 3 that is electric\n"
     ]
    }
   ],
   "source": [
    "class Car:\n",
    "    def __init__(self, make, model, is_electric, year):\n",
    "        self.make = make\n",
    "        self._model = model\n",
    "        self.is_electric = is_electric\n",
    "        self.year = year\n",
    "\n",
    "    @property\n",
    "    def model(self):\n",
    "        return self._model\n",
    "    \n",
    "    @model.setter\n",
    "    def model(self, model_value):\n",
    "        if type(model_value) != str:\n",
    "            raise TypeError('Model must be a string')\n",
    "        else:\n",
    "            self._model = model_value\n",
    "        \n",
    "    def __str__(self):\n",
    "        if self.is_electric:\n",
    "            return f\"A {self.year} {self.make} {self.model} that is electric\"\n",
    "        else:\n",
    "            return f\"A {self.year} {self.make} {self.model} that is gas powered\"\n",
    "        \n",
    "tesla_model_three = Car(make=\"Tesla\", model=\"3\", is_electric=True, year=2020)\n",
    "\n",
    "print(tesla_model_three)"
   ]
  },
  {
   "cell_type": "code",
   "execution_count": 17,
   "metadata": {
    "scrolled": true
   },
   "outputs": [
    {
     "name": "stdout",
     "output_type": "stream",
     "text": [
      "A 2020 Tesla 5 that is electric\n"
     ]
    }
   ],
   "source": [
    "tesla_model_three.model = \"5\"\n",
    "print(tesla_model_three)"
   ]
  },
  {
   "cell_type": "markdown",
   "metadata": {},
   "source": [
    "In the example above, we have a bit more control and force the user to specify the model as a string. By using properties, you can have as much control as you want so that the user is unable to do anything malicious with your class"
   ]
  },
  {
   "cell_type": "markdown",
   "metadata": {},
   "source": [
    "[Up Next: Lesson 6 - Inheritance](inheritance.ipynb)\n",
    "\n",
    "[Go Back: Lessons 6 - Object Oriented Programming](index.ipynb)"
   ]
  }
 ],
 "metadata": {
  "kernelspec": {
   "display_name": "Python 3",
   "language": "python",
   "name": "python3"
  },
  "language_info": {
   "codemirror_mode": {
    "name": "ipython",
    "version": 3
   },
   "file_extension": ".py",
   "mimetype": "text/x-python",
   "name": "python",
   "nbconvert_exporter": "python",
   "pygments_lexer": "ipython3",
   "version": "3.7.0"
  }
 },
 "nbformat": 4,
 "nbformat_minor": 2
}
