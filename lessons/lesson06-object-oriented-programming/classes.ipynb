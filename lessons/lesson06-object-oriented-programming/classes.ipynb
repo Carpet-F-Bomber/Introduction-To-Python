{
 "cells": [
  {
   "cell_type": "markdown",
   "metadata": {},
   "source": [
    "# Classes\n",
    "\n",
    "## Creating A Class\n",
    "\n",
    "\n",
    "### \\_\\_init__\n",
    "\n",
    "\n",
    "### self\n",
    "\n",
    "\n",
    "### Attributes\n",
    "\n",
    "\n",
    "\\\n",
    "\\\n",
    "\\\n",
    "\\\n",
    "[Up Next: Lesson 6 - Inheritance](inheritance.md)\n",
    "\\\n",
    "\\\n",
    "\\\n",
    "[Go Back: Lessons 6 - Object Oriented Programming](README.md)"
   ]
  }
 ],
 "metadata": {
  "kernelspec": {
   "display_name": "Python 3",
   "language": "python",
   "name": "python3"
  },
  "language_info": {
   "codemirror_mode": {
    "name": "ipython",
    "version": 3
   },
   "file_extension": ".py",
   "mimetype": "text/x-python",
   "name": "python",
   "nbconvert_exporter": "python",
   "pygments_lexer": "ipython3",
   "version": "3.7.0"
  }
 },
 "nbformat": 4,
 "nbformat_minor": 2
}
