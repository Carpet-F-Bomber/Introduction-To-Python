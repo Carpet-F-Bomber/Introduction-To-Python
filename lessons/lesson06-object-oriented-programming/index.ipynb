{
 "cells": [
  {
   "cell_type": "markdown",
   "metadata": {},
   "source": [
    "# Object Oriented Programming\n",
    "* [Intro To Object Oriented Programming](object-oriented-programming.md)\n",
    "    * What is OOP?\n",
    "    * Why do we use it?\n",
    "* [Classes](classes.md)\n",
    "    * \\_\\_init__\n",
    "    * self\n",
    "    * Attributes\n",
    "        * Properties\n",
    "        * Setter (Or Lack Thereof)\n",
    "* [Inheritance](inheritance.md)\n",
    "    * Parent & Child Classes\n",
    "    * Overriding\n",
    "        * \\_\\_init__\n",
    "        * Methods\n",
    "    * super()\n",
    "\n",
    "\\\n",
    "\\\n",
    "\\\n",
    "\\\n",
    "[Up Next: Lesson 6 - Object Oriented Programming](object-oriented-programming.md)\n",
    "\\\n",
    "\\\n",
    "\\\n",
    "[Go Back: Lessons](../README.md)"
   ]
  }
 ],
 "metadata": {
  "kernelspec": {
   "display_name": "Python 3",
   "language": "python",
   "name": "python3"
  },
  "language_info": {
   "codemirror_mode": {
    "name": "ipython",
    "version": 3
   },
   "file_extension": ".py",
   "mimetype": "text/x-python",
   "name": "python",
   "nbconvert_exporter": "python",
   "pygments_lexer": "ipython3",
   "version": "3.7.0"
  }
 },
 "nbformat": 4,
 "nbformat_minor": 2
}
