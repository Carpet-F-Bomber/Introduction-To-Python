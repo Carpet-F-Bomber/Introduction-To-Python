{
 "cells": [
  {
   "cell_type": "markdown",
   "metadata": {},
   "source": [
    "# Text Editors / IDE\n",
    "To start writing Python code, you will need a text editor at the very least. You can even start writing in Notepad. For\n",
    "coding purposes, programs like [Notepad++](https://notepad-plus-plus.org/), [Sublime](https://www.sublimetext.com/), and \n",
    "[Visual Studio Code](https://code.visualstudio.com/) are very popular for tasks like this. If you are planning to code a\n",
    "lot in Python, I would recommend getting [PyCharm](https://www.jetbrains.com/pycharm/) (there is a free community edition).\n",
    "Using an IDE (Integrated Development Environment) can provide to be more beneficial as the program will have shortcuts,\n",
    "visual cues, and suggestions to help improve productivity. While this can be beneficial, it is by no means a requirement.\n",
    "Certain text editors like the ones mentioned above can download plugins which can help in similar ways."
   ]
  },
  {
   "cell_type": "markdown",
   "metadata": {},
   "source": [
    "[Up Next: Lesson 1 - pip](pip.ipynb)\n",
    "\n",
    "[Go Back: Lesson 1 - Environment Setup](index.ipynb)"
   ]
  }
 ],
 "metadata": {
  "kernelspec": {
   "display_name": "Python 3",
   "language": "python",
   "name": "python3"
  },
  "language_info": {
   "codemirror_mode": {
    "name": "ipython",
    "version": 3
   },
   "file_extension": ".py",
   "mimetype": "text/x-python",
   "name": "python",
   "nbconvert_exporter": "python",
   "pygments_lexer": "ipython3",
   "version": "3.7.0"
  }
 },
 "nbformat": 4,
 "nbformat_minor": 2
}
