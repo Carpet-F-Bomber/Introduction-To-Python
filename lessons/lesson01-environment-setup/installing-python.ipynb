{
 "cells": [
  {
   "cell_type": "markdown",
   "metadata": {},
   "source": [
    "# Installing Python\n",
    "\n",
    "## Windows\n",
    "![you-chose-poorly](../assets/lesson1-you-choose-poorly.jpg)\n",
    "\n",
    "You should be able to follow through simply with the installation directions specified [here](https://realpython.com/installing-python/#step-1-download-the-python-3-installer)\n",
    "\n",
    "\n",
    "\n",
    "## Mac\n",
    "Lucky for you, Mac OSX (10.8+) has Python installed but it is Python2. To download/install Python3, refer to the this\n",
    "helpful [document](https://docs.python-guide.org/starting/install3/osx/). I have listed the steps below for convenience:\n",
    "* Open a Terminal\n",
    "    * Open Spotlight (command + space)\n",
    "    * Type in Terminal and hit Enter\n",
    "* Install Homebrew\n",
    "    * ```bash\n",
    "        ruby -e \"$(curl -fsSL https://raw.githubusercontent.com/Homebrew/install/master/install)\" \n",
    "      ```\n",
    "    * Depending on your OS Version:\n",
    "        * OS X (10.13+)\n",
    "            * ```bash\n",
    "                export PATH=\"/usr/local/opt/python/libexec/bin:$PATH\"\n",
    "              ```\n",
    "        * OS X (10.12 or lower)\n",
    "            * ```bash\n",
    "                export PATH=/usr/local/bin:/usr/local/sbin:$PATH\n",
    "              ```\n",
    "* Install Python\n",
    "    * ```bash\n",
    "        brew install python\n",
    "      ```\n",
    "* Check Python Version\n",
    "    * ```bash\n",
    "        python --version\n",
    "      ```\n",
    "        * If you don't see anything here, check if the following works\n",
    "        ```bash\n",
    "            python3 --version\n",
    "        ```"
   ]
  },
  {
   "cell_type": "markdown",
   "metadata": {
    "pycharm": {
     "name": "#%% md\n"
    }
   },
   "source": [
    "[Up Next Lesson: Text Editors / IDE](text-editor.ipynb)\n",
    "\n",
    "[Go Back: Lesson 1 - Environment Setup](index.ipynb)\n"
   ]
  }
 ],
 "metadata": {
  "kernelspec": {
   "display_name": "Python 3",
   "language": "python",
   "name": "python3"
  },
  "language_info": {
   "codemirror_mode": {
    "name": "ipython",
    "version": 3
   },
   "file_extension": ".py",
   "mimetype": "text/x-python",
   "name": "python",
   "nbconvert_exporter": "python",
   "pygments_lexer": "ipython3",
   "version": "3.7.0"
  },
  "pycharm": {
   "stem_cell": {
    "cell_type": "raw",
    "metadata": {
     "collapsed": false
    },
    "source": []
   }
  }
 },
 "nbformat": 4,
 "nbformat_minor": 2
}
