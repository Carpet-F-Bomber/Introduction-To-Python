{
 "cells": [
  {
   "cell_type": "markdown",
   "metadata": {},
   "source": [
    "# Python Interpreter\n",
    "\n",
    "\n",
    "## Using The Interpreter\n",
    "To use the interpreter, you can run the following in your terminal:\n",
    "```bash\n",
    "Mac-02W5H0SHTD6:Introduction-To-Python r.nair$ python3     # or just python\n",
    "Python 3.7.0 (v3.7.0:1bf9cc5093, Jun 26 2018, 23:26:24) \n",
    "[Clang 6.0 (clang-600.0.57)] on darwin\n",
    "Type \"help\", \"copyright\", \"credits\" or \"license\" for more information.\n",
    ">>> \n",
    "```\n",
    "\n",
    "Once the interpreter launches, you can see that it prints out a bunch of information showing\n",
    "details such as Python version `Python 3.7.0` and other details. Once you are in the interpreter,\n",
    "you can start running Python commands and it will print out a response after (if there is one)\n",
    "\n",
    "```bash\n",
    ">>> x = 5       # run a command to set 'x' equal to the value 5 \n",
    ">>> x           # if we look at what 'x' is, we are returned the value\n",
    "5               # we are told that x has a value of 5\n",
    "```\n",
    "\n",
    "To exit the interpreter, you can type one of the following and hit \"Enter\":\n",
    "\n",
    "#### exit()\n",
    "```bash\n",
    ">>> \n",
    ">>> exit()\n",
    "Mac-02W5H0SHTD6:Introduction-To-Python r.nair$ \n",
    "```\n",
    "\n",
    "#### control + d\n",
    "```bash\n",
    ">>> ^D\n",
    "Mac-02W5H0SHTD6:Introduction-To-Python r.nair$ \n",
    "```"
   ]
  },
  {
   "cell_type": "markdown",
   "metadata": {},
   "source": [
    "[Up Next: Lesson 1 - Jupyter Notebook](jupyter-notebook.ipynb)\n",
    "\n",
    "[Go Back: Lesson 1 - Environment Setup](index.ipynb)\n"
   ]
  }
 ],
 "metadata": {
  "kernelspec": {
   "display_name": "Python 3",
   "language": "python",
   "name": "python3"
  },
  "language_info": {
   "codemirror_mode": {
    "name": "ipython",
    "version": 3
   },
   "file_extension": ".py",
   "mimetype": "text/x-python",
   "name": "python",
   "nbconvert_exporter": "python",
   "pygments_lexer": "ipython3",
   "version": "3.7.3"
  }
 },
 "nbformat": 4,
 "nbformat_minor": 2
}
