{
 "cells": [
  {
   "cell_type": "markdown",
   "metadata": {},
   "source": [
    "# pip\n",
    "pip is the package management system used by Python to download/install software packages written in Python. While many\n",
    "packages come with the default installation of Python, you will find that you need to install certain packages through\n",
    "the use of pip. pip should come installed with Python and is very easy to use in the command line. \n",
    "\n",
    "```bash\n",
    "pip install <package-name>\n",
    "```\n",
    "\n",
    "```bash\n",
    "pip uninstall <package-name>\n",
    "```\n",
    "\n",
    "## Listing Package Requirements\n",
    "To be able to collaborate with project teammates, you need to list your dependencies and what package versions you are running. That way your project team members can use the same package versions you are using and don't run into any errors when collaborating. To do this, use the pip freeze command to list package versions.\n",
    "\n",
    "```bash\n",
    "pip freeze \n",
    "```\n",
    "\n",
    "## Installing from requirements\n",
    "For collaborations purposes, you want to ensure you and your project teammates are using the same package versions. So you will use a requirements.txt file and a pip install to grab all of those packages.\n",
    "\n",
    "```bash\n",
    "pip install -r requirements.txt\n",
    "```"
   ]
  },
  {
   "cell_type": "markdown",
   "metadata": {},
   "source": [
    "[Up Next: Virtual Environment](virtual-environment.ipynb)\n",
    "\n",
    "[Go Back: Lesson 1 - Environment Setup](index.ipynb)\n"
   ]
  }
 ],
 "metadata": {
  "kernelspec": {
   "display_name": "Python 3",
   "language": "python",
   "name": "python3"
  },
  "language_info": {
   "codemirror_mode": {
    "name": "ipython",
    "version": 3
   },
   "file_extension": ".py",
   "mimetype": "text/x-python",
   "name": "python",
   "nbconvert_exporter": "python",
   "pygments_lexer": "ipython3",
   "version": "3.7.3"
  }
 },
 "nbformat": 4,
 "nbformat_minor": 2
}
