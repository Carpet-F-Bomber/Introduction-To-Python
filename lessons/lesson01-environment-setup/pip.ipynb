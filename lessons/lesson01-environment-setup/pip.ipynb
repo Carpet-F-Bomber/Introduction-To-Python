{
 "cells": [
  {
   "cell_type": "markdown",
   "metadata": {},
   "source": [
    "# pip\n",
    "pip is the package management system used by Python to download/install software packages written in Python. While many\n",
    "packages come with the default installation of Python, you will find that you need to install certain packages through\n",
    "the use of pip. pip should come installed with Python and is very easy to use in the command line. \n",
    "\n",
    "```bash\n",
    "pip install <package-name>\n",
    "```\n",
    "\n",
    "```bash\n",
    "pip uninstall <package-name>\n",
    "```"
   ]
  },
  {
   "cell_type": "markdown",
   "metadata": {},
   "source": [
    "[Up Next: Virtual Environment](virtual-environment.ipynb)\n",
    "\n",
    "[Go Back: Lesson 1 - Environment Setup](index.ipynb)\n"
   ]
  }
 ],
 "metadata": {
  "kernelspec": {
   "display_name": "Python 3",
   "language": "python",
   "name": "python3"
  },
  "language_info": {
   "codemirror_mode": {
    "name": "ipython",
    "version": 3
   },
   "file_extension": ".py",
   "mimetype": "text/x-python",
   "name": "python",
   "nbconvert_exporter": "python",
   "pygments_lexer": "ipython3",
   "version": "3.7.3"
  }
 },
 "nbformat": 4,
 "nbformat_minor": 2
}
