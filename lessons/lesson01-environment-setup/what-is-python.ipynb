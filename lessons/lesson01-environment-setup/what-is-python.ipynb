{
 "cells": [
  {
   "cell_type": "markdown",
   "metadata": {},
   "source": [
    "# What is Python?\n",
    "Python is a high-level programming language that uses an object oriented approach to help create clean, readable, logical\n",
    "code for small and large applications/projects. One of the main goals for Python is to be an easily readable language.\n",
    "Heavily relying on the usage of whitespace and not requiring the common curly braces or semicolons allows the code to \n",
    "be uncluttered and easily read.\n",
    "\n",
    "# Python3\n",
    "There are currently two major versions of Python that are used in the industry: Python2 and Python3. While some still \n",
    "use Python2, it is considered legacy code, while Python3 should be the industry standard. Python2.7 is the final major \n",
    "release of Python2.x and the end of life has been [confirmed](https://pythonclock.org/)."
   ]
  },
  {
   "cell_type": "markdown",
   "metadata": {},
   "source": [
    "[Up Next: Lesson 1 - Installation](installing-python.ipynb)\n",
    "\n",
    "[Go Back: Lesson 1 - Environment Setup](index.ipynb)"
   ]
  }
 ],
 "metadata": {
  "kernelspec": {
   "display_name": "Python 3",
   "language": "python",
   "name": "python3"
  },
  "language_info": {
   "codemirror_mode": {
    "name": "ipython",
    "version": 3
   },
   "file_extension": ".py",
   "mimetype": "text/x-python",
   "name": "python",
   "nbconvert_exporter": "python",
   "pygments_lexer": "ipython3",
   "version": "3.7.3"
  }
 },
 "nbformat": 4,
 "nbformat_minor": 2
}
