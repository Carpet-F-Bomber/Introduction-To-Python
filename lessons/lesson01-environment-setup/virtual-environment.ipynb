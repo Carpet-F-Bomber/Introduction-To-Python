{
 "cells": [
  {
   "cell_type": "markdown",
   "metadata": {},
   "source": [
    "# Virtual Environment\n",
    "Virtual Environment is a tool that is used to isolate Python programming environments to avoid having collisions when it\n",
    "comes to package requirements. It is usually a good idea to have a separate virtual environment per project.\n",
    "\n",
    "## Installation\n",
    "Virtual Environment can be installed through pip:\n",
    "```bash\n",
    "pip install virtualenv\n",
    "```\n",
    "\n",
    "## How To Use\n",
    "\n",
    "### Creating Virtual Environment\n",
    "```bash\n",
    "virtualenv venv\n",
    "```\n",
    "\n",
    "You can call `venv` any name but that is a common one.\n",
    "\n",
    "### Activating Virtual Environment\n",
    "This will create a virtual environment that mirrors the setup on your machine inside a directory called venv. To activate\n",
    "this, you will want to run:\n",
    "```bash\n",
    "source venv/bin/activate\n",
    "```\n",
    "\n",
    "You can see that the virtual environment is active because the name of the Virtual Environment (venv) will be shown at\n",
    "the beginning of the line in the console\n",
    "```bash\n",
    "Raghavs-MBP:Introduction-To-Python rnair$ source venv/bin/activate\n",
    "(venv) Raghavs-MBP:Introduction-To-Python rnair$\n",
    "```\n",
    "\n",
    "### Deactivating Virtual Environment\n",
    "To deactivate the virtual environment, you can just type:\n",
    "```bash\n",
    "deactivate\n",
    "```"
   ]
  },
  {
   "cell_type": "markdown",
   "metadata": {},
   "source": [
    "[Up Next: Lesson 1 - Python Interpreter](python-interpreter.ipynb)\n",
    "\n",
    "[Go Back: Lesson 1 - Environment Setup](index.ipynb)"
   ]
  }
 ],
 "metadata": {
  "kernelspec": {
   "display_name": "Python 3",
   "language": "python",
   "name": "python3"
  },
  "language_info": {
   "codemirror_mode": {
    "name": "ipython",
    "version": 3
   },
   "file_extension": ".py",
   "mimetype": "text/x-python",
   "name": "python",
   "nbconvert_exporter": "python",
   "pygments_lexer": "ipython3",
   "version": "3.7.3"
  }
 },
 "nbformat": 4,
 "nbformat_minor": 2
}
