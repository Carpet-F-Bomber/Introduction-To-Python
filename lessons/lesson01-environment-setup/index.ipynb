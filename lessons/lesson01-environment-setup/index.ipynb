{
 "cells": [
  {
   "cell_type": "markdown",
   "metadata": {
    "collapsed": true,
    "pycharm": {
     "name": "#%% md\n"
    }
   },
   "source": [
    "# Environment Setup\n",
    "* [Python Intro](what-is-python.ipynb)\n",
    "    * Version (3+)\n",
    "* [Installation](installing-python.ipynb)\n",
    "    * Windows\n",
    "    * Mac\n",
    "* [Text Editor / IDE](text-editor.ipynb)\n",
    "    * Sublime\n",
    "    * Visual Code\n",
    "    * PyCharm (recommended)\n",
    "* [pip](pip.md)\n",
    "* [Virtual Environment](virtual-environment.ipynb)\n",
    "* [Python Interpreter](python-interpreter.ipynb)\n",
    "* [Jupyter Notebook](jupyter-notebook.ipynb)"
   ]
  },
  {
   "cell_type": "markdown",
   "metadata": {},
   "source": [
    "[Up Next: Lesson 1 - Python Intro](what-is-python.ipynb)\n",
    "\n",
    "[Go Back: Lessons](../index.ipynb)"
   ]
  }
 ],
 "metadata": {
  "kernelspec": {
   "display_name": "Python 3",
   "language": "python",
   "name": "python3"
  },
  "language_info": {
   "codemirror_mode": {
    "name": "ipython",
    "version": 3
   },
   "file_extension": ".py",
   "mimetype": "text/x-python",
   "name": "python",
   "nbconvert_exporter": "python",
   "pygments_lexer": "ipython3",
   "version": "3.7.3"
  },
  "pycharm": {
   "stem_cell": {
    "cell_type": "raw",
    "metadata": {
     "collapsed": false
    },
    "source": []
   }
  }
 },
 "nbformat": 4,
 "nbformat_minor": 1
}
