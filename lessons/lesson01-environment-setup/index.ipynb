{
 "cells": [
  {
   "cell_type": "markdown",
   "metadata": {
    "collapsed": true,
    "pycharm": {
     "name": "#%% md\n"
    }
   },
   "source": [
    "# Environment Setup\n",
    "* [Python Intro](what-is-python.ipynb)\n",
    "    * Version (3+)\n",
    "* [Installation](installing-python.ipynb)\n",
    "    * Windows\n",
    "    * Mac\n",
    "* [Text Editor / IDE](text-editor.ipynb)\n",
    "    * Sublime\n",
    "    * Visual Code\n",
    "    * PyCharm (recommended)\n",
    "* [pip](pip.md)\n",
    "* [Virtual Environment](virtual-environment.ipynb)\n",
    "* [Python Interpreter](python-interpreter.ipynb)"
   ]
  },
  {
   "cell_type": "markdown",
   "source": [
    "[Up Next: Lesson 1 - Python Intro](what-is-python.ipynb)\n",
    "\n",
    "[Go Back: Lessons](../index.ipynb)"
   ],
   "metadata": {
    "collapsed": false
   }
  }
 ],
 "metadata": {
  "language_info": {
   "codemirror_mode": {
    "name": "ipython",
    "version": 2
   },
   "file_extension": ".py",
   "mimetype": "text/x-python",
   "name": "python",
   "nbconvert_exporter": "python",
   "pygments_lexer": "ipython2",
   "version": "2.7.6"
  },
  "kernelspec": {
   "name": "python3",
   "language": "python",
   "display_name": "Python 3"
  },
  "pycharm": {
   "stem_cell": {
    "cell_type": "raw",
    "source": [],
    "metadata": {
     "collapsed": false
    }
   }
  }
 },
 "nbformat": 4,
 "nbformat_minor": 0
}