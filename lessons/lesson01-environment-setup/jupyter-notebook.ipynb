{
 "cells": [
  {
   "cell_type": "markdown",
   "metadata": {},
   "source": [
    "# Jupyter Notebook\n",
    "\n",
    "## What Is Jupyter?\n",
    "[Jupyter](https://jupyter.org/) is an excellent open-source tool which allows us to share documents with live code in it. This allows for a more interactive experience where you can actually run code instead of just looking at it and believing that it will work. If you have never used Jupyter, do not worry, we will walk through how to set it up and use it effectively!\n",
    "\n",
    "\n",
    "\n",
    "## Installation\n",
    "Installing Jupyter is very easy with the pip tool. Once you have pip and python installed on your machine, you can run the following command within your terminal\n",
    "\n",
    "```bash\n",
    "pip install jupyter\n",
    "```\n",
    "\n",
    "This will go through the process of finding the latest Jupyter package and install it locally for you\n",
    "\n",
    "\n",
    "## How To Use\n",
    "To use Jupyter, you will want to run the Jupyter command from the main directory. To do this, load up your terminal and set your working directory to the main root folder of this repository. Once you are here, you can kick off Jupyter\n",
    "\n",
    "```bash\n",
    "cd Introduction-To-Python # get into the main directory\n",
    "\n",
    "jupyter notebook # start jupyer\n",
    "```\n",
    "\n",
    "This will load up the browser and start the Jupyter web application. Once you are there, you will want to open the files that you want to interact with and then in the appropriate sections, you will be able to modify/interact with the code and then run it to see the output. To run the code, make sure you have selected the approriate section and click the \"Run\" button at the top help menu. "
   ]
  },
  {
   "cell_type": "markdown",
   "metadata": {},
   "source": [
    "[Up Next: Lesson 2 - Python Basics](../lesson02-python-basics/index.ipynb)\n",
    "\n",
    "[Go Back: Lessons 1 - Environment Setup](index.ipynb)"
   ]
  }
 ],
 "metadata": {
  "kernelspec": {
   "display_name": "Python 3",
   "language": "python",
   "name": "python3"
  },
  "language_info": {
   "codemirror_mode": {
    "name": "ipython",
    "version": 3
   },
   "file_extension": ".py",
   "mimetype": "text/x-python",
   "name": "python",
   "nbconvert_exporter": "python",
   "pygments_lexer": "ipython3",
   "version": "3.7.3"
  }
 },
 "nbformat": 4,
 "nbformat_minor": 2
}
