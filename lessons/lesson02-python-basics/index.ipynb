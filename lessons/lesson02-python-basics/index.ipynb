{
 "cells": [
  {
   "cell_type": "markdown",
   "metadata": {},
   "source": [
    "# Python Basics\n",
    "* [Running A Python File](running-python-scripts.ipynb)\n",
    "* [Variables](variables.ipynb)\n",
    "* [Types](types.ipynb)\n",
    "    * Boolean\n",
    "    * String\n",
    "    * Int\n",
    "* [Data Structures](data-structures.ipynb)\n",
    "    * List\n",
    "    * Tuple\n",
    "    * Set\n",
    "    * Dictionary\n",
    "* [Logic](logic.ipynb)\n",
    "    * If Statement\n",
    "        * not\n",
    "        * and\n",
    "        * or\n",
    "    * For Loop\n",
    "    * While Loop"
   ]
  },
  {
   "cell_type": "markdown",
   "metadata": {},
   "source": [
    "[Up Next: Lesson 2 - Running A Python File](running-python-scripts.ipynb)\n",
    "\n",
    "[Go Back: Lessons](../index.ipynb)"
   ]
  }
 ],
 "metadata": {
  "kernelspec": {
   "display_name": "Python 3",
   "language": "python",
   "name": "python3"
  },
  "language_info": {
   "codemirror_mode": {
    "name": "ipython",
    "version": 3
   },
   "file_extension": ".py",
   "mimetype": "text/x-python",
   "name": "python",
   "nbconvert_exporter": "python",
   "pygments_lexer": "ipython3",
   "version": "3.7.0"
  },
  "pycharm": {
   "stem_cell": {
    "cell_type": "raw",
    "metadata": {
     "collapsed": false
    },
    "source": []
   }
  }
 },
 "nbformat": 4,
 "nbformat_minor": 2
}
