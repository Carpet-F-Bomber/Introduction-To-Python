{
 "cells": [
  {
   "cell_type": "markdown",
   "metadata": {},
   "source": [
    "# Python Basics\n",
    "* [Running A Python File](running-python-scripts.md)\n",
    "* [Variables](variables.md)\n",
    "* [Types](types.md)\n",
    "    * Boolean\n",
    "    * String\n",
    "    * Int\n",
    "* [Data Structures](data-structures.md)\n",
    "    * List\n",
    "    * Tuple\n",
    "    * Set\n",
    "    * Dictionary\n",
    "* [Logic](logic.md)\n",
    "    * If Statement\n",
    "        * not\n",
    "        * and\n",
    "        * or\n",
    "    * For Loop\n",
    "    * While Loop\n",
    "\n",
    "\\\n",
    "\\\n",
    "\\\n",
    "\\\n",
    "[Up Next: Lesson 2 - Variables](variables.md)\n",
    "\\\n",
    "\\\n",
    "\\\n",
    "[Go Back: Lessons](../README.md)\n"
   ]
  }
 ],
 "metadata": {
  "kernelspec": {
   "display_name": "Python 3",
   "language": "python",
   "name": "python3"
  },
  "language_info": {
   "codemirror_mode": {
    "name": "ipython",
    "version": 3
   },
   "file_extension": ".py",
   "mimetype": "text/x-python",
   "name": "python",
   "nbconvert_exporter": "python",
   "pygments_lexer": "ipython3",
   "version": "3.7.0"
  }
 },
 "nbformat": 4,
 "nbformat_minor": 2
}
