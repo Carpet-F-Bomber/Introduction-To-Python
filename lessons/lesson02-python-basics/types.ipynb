{
 "cells": [
  {
   "cell_type": "markdown",
   "metadata": {},
   "source": [
    "# Data Types\n",
    "As seen in the previous topic, there are data types in Python. We initially looked at an `int` and\n",
    "a `string`. We will discuss those and a couple others below.\n",
    "\n",
    "\n",
    "## Boolean\n",
    "A `boolean` is essentially a binary value (meaning it has 2 potential values). Typically, booleans\n",
    "are used to represent `True` or `False`. Booleans are usually used in evaluating some sort of\n",
    "logic, such as checking if variables are equal to each other."
   ]
  },
  {
   "cell_type": "code",
   "execution_count": null,
   "metadata": {},
   "outputs": [],
   "source": [
    "x = True            # x represents a Boolean (True)\n",
    "\n",
    "x is True           # True, because x = True\n",
    "\n",
    "x is False          # False, because x = True"
   ]
  },
  {
   "cell_type": "markdown",
   "metadata": {},
   "source": [
    "Booleans can also be represented with numbers. 0 represents `False` while 1 (or any other number)\n",
    "represents `True`.\n",
    "\n",
    "\n",
    "## String\n",
    "As seen before, a `string` represents 1 or more text characters that are wrapped with quotes. These\n",
    "quotes can be single `'` or double `\"`, but the one that is used to start the string, must also\n",
    "end the string."
   ]
  },
  {
   "cell_type": "code",
   "execution_count": null,
   "metadata": {},
   "outputs": [],
   "source": [
    "x = 'this is a string'  # Valid\n",
    "\n",
    "y = \"this is a string\"  # Valid\n",
    "\n",
    "x == y                  # True (Even though they use diff quotations to start/end, they are equal)"
   ]
  },
  {
   "cell_type": "markdown",
   "metadata": {},
   "source": [
    "## Int\n",
    "An `int`, or integer, represents a whole number (positive or negative). Similar to numbers in real\n",
    "life, we can run the general operations on them."
   ]
  },
  {
   "cell_type": "code",
   "execution_count": null,
   "metadata": {},
   "outputs": [],
   "source": [
    "x = 5                   # x has a value of 5\n",
    "\n",
    "x = x + 10              # x has a value of 15\n",
    "\n",
    "x = x * 2               # x has a value of 30\n",
    "\n",
    "x = x / 3               # x has a value of 10\n",
    "\n",
    "x = x - 9               # x has a value of 1\n",
    "\n",
    "# A shortcut of writing what we did above would be:\n",
    "x += 3                  # equivalent to x = x + 3 (x has a value of 4)\n",
    "\n",
    "x *= 2                  # equivalent to x = x * 2 (x has a value of 8)"
   ]
  },
  {
   "cell_type": "markdown",
   "metadata": {},
   "source": [
    "[Up Next: Lesson 2 - Data Structures](data-structures.ipynb)\n",
    "\n",
    "[Go Back: Lessons 2 - Python Basics](index.ipynb)"
   ]
  }
 ],
 "metadata": {
  "kernelspec": {
   "display_name": "Python 3",
   "language": "python",
   "name": "python3"
  },
  "language_info": {
   "codemirror_mode": {
    "name": "ipython",
    "version": 3
   },
   "file_extension": ".py",
   "mimetype": "text/x-python",
   "name": "python",
   "nbconvert_exporter": "python",
   "pygments_lexer": "ipython3",
   "version": "3.7.0"
  }
 },
 "nbformat": 4,
 "nbformat_minor": 2
}
