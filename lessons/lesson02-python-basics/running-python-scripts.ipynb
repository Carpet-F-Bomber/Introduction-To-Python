{
 "cells": [
  {
   "cell_type": "markdown",
   "metadata": {},
   "source": [
    "# Running Python Scripts\n",
    "The first thing you want to be able to do is to learn how to run a Python script. Since you have installed Python, you\n",
    "can just call it from the command line and give the location of the Python file that we want to run.\n",
    "\n",
    "In this directory, we have a file called `example.py`. Without worrying about what's in the code, try to run it!\n",
    "\n",
    "```bash\n",
    "python example.py\n",
    "```\n",
    "\n",
    "or if you explicitly installed it as python3\n",
    "\n",
    "```bash\n",
    "python3 example.py\n",
    "```"
   ]
  },
  {
   "cell_type": "code",
   "execution_count": null,
   "metadata": {},
   "outputs": [],
   "source": [
    "run example.py"
   ]
  },
  {
   "cell_type": "markdown",
   "metadata": {},
   "source": [
    "[Up Next: Lesson 2 - Variables](variables.ipynb)\n",
    "\n",
    "[Go Back: Lessons 2 - Python Basics](index.ipynb)"
   ]
  },
  {
   "cell_type": "code",
   "execution_count": null,
   "metadata": {},
   "outputs": [],
   "source": []
  }
 ],
 "metadata": {
  "kernelspec": {
   "display_name": "Python 3",
   "language": "python",
   "name": "python3"
  },
  "language_info": {
   "codemirror_mode": {
    "name": "ipython",
    "version": 3
   },
   "file_extension": ".py",
   "mimetype": "text/x-python",
   "name": "python",
   "nbconvert_exporter": "python",
   "pygments_lexer": "ipython3",
   "version": "3.7.0"
  }
 },
 "nbformat": 4,
 "nbformat_minor": 2
}
