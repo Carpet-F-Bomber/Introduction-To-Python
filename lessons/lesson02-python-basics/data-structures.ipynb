{
 "cells": [
  {
   "cell_type": "markdown",
   "metadata": {},
   "source": [
    "# Data Structures\n",
    "A data structure is a way of organizing data so that it can be used effectively. As we covered various data types in\n",
    "the last module, we want to have a good way to organize this data so that we can use them in a programmatic and\n",
    "efficient manner. \n",
    "\n",
    "## List\n",
    "As the name suggests, a `list` is a data structure which can contain various data types. Its purpose is to contain\n",
    "multiple data objects at the same time. It is an ordered data structure, meaning that whatever order items are added to\n",
    "the list will stay in that order unless modified. Each element in the `list` is associated with an index, which specifies\n",
    "where in the list it stays. In Python (and many other programming languages), indexing starts at 0. This means that\n",
    "the first item in the list is at the 0th index. Thus, the size of a `list` is the last item's index + 1. Let's take a\n",
    "look at how we can initialize a `list`!"
   ]
  },
  {
   "cell_type": "code",
   "execution_count": 1,
   "metadata": {},
   "outputs": [
    {
     "name": "stdout",
     "output_type": "stream",
     "text": [
      "x = [1, 2, 3]\n"
     ]
    }
   ],
   "source": [
    "x = [1, 2, 3]               # this is a list of 3 items where 1 is the 1st item, 2 is the 2nd item, 3 is the 3rd\n",
    "print(f\"x = {x}\")"
   ]
  },
  {
   "cell_type": "markdown",
   "metadata": {},
   "source": [
    "We can get a specific item from a `list` by it's index by using the square brackets after the list variable's name"
   ]
  },
  {
   "cell_type": "code",
   "execution_count": 2,
   "metadata": {},
   "outputs": [
    {
     "name": "stdout",
     "output_type": "stream",
     "text": [
      "x = [1, 2, 3]\n",
      "x[0] = 1\n"
     ]
    }
   ],
   "source": [
    "x = [1, 2, 3]\n",
    "print(f\"x = {x}\")\n",
    "\n",
    "print(f\"x[0] = {x[0]}\")    # This will return 1 since 1 is in the 0th index of the list"
   ]
  },
  {
   "cell_type": "markdown",
   "metadata": {},
   "source": [
    "Python also allows us the flexibility of having various data types in the same `list`"
   ]
  },
  {
   "cell_type": "code",
   "execution_count": 3,
   "metadata": {},
   "outputs": [
    {
     "name": "stdout",
     "output_type": "stream",
     "text": [
      "x = [1, 'this is a string', False]\n",
      "x[0] = 1\n",
      "x[1] = this is a string\n",
      "x[2] = False\n"
     ]
    },
    {
     "ename": "IndexError",
     "evalue": "list index out of range",
     "output_type": "error",
     "traceback": [
      "\u001b[0;31m---------------------------------------------------------------------------\u001b[0m",
      "\u001b[0;31mIndexError\u001b[0m                                Traceback (most recent call last)",
      "\u001b[0;32m<ipython-input-3-59327676f1bf>\u001b[0m in \u001b[0;36m<module>\u001b[0;34m\u001b[0m\n\u001b[1;32m      8\u001b[0m \u001b[0mprint\u001b[0m\u001b[0;34m(\u001b[0m\u001b[0;34mf\"x[2] = {x[2]}\"\u001b[0m\u001b[0;34m)\u001b[0m    \u001b[0;31m# False\u001b[0m\u001b[0;34m\u001b[0m\u001b[0m\n\u001b[1;32m      9\u001b[0m \u001b[0;34m\u001b[0m\u001b[0m\n\u001b[0;32m---> 10\u001b[0;31m \u001b[0mprint\u001b[0m\u001b[0;34m(\u001b[0m\u001b[0;34mf\"x[3] = {x[3]}\"\u001b[0m\u001b[0;34m)\u001b[0m    \u001b[0;31m# Error: You cannot access an index that has not been set\u001b[0m\u001b[0;34m\u001b[0m\u001b[0m\n\u001b[0m",
      "\u001b[0;31mIndexError\u001b[0m: list index out of range"
     ]
    }
   ],
   "source": [
    "x = [1, \"this is a string\", False]\n",
    "print(f\"x = {x}\")\n",
    "\n",
    "print(f\"x[0] = {x[0]}\")    # 1 \n",
    "\n",
    "print(f\"x[1] = {x[1]}\")    # \"this is a string\n",
    "\n",
    "print(f\"x[2] = {x[2]}\")    # False\n",
    "\n",
    "print(f\"x[3] = {x[3]}\")    # Error: You cannot access an index that has not been set"
   ]
  },
  {
   "cell_type": "markdown",
   "metadata": {},
   "source": [
    "Once items are initialized in a `list`, we can re-write or even delete them"
   ]
  },
  {
   "cell_type": "code",
   "execution_count": 4,
   "metadata": {},
   "outputs": [
    {
     "name": "stdout",
     "output_type": "stream",
     "text": [
      "x = [1, 2, 3]\n",
      "x = [1, 2, 5]\n",
      "x = [1, 2]\n"
     ]
    }
   ],
   "source": [
    "x = [1, 2, 3]\n",
    "print(f\"x = {x}\")\n",
    "\n",
    "x[2] = 5                    # x = [1, 2, 5]\n",
    "print(f\"x = {x}\")\n",
    "\n",
    "del x[2]                    \n",
    "\n",
    "print(f\"x = {x}\")           # x = [1, 2]"
   ]
  },
  {
   "cell_type": "markdown",
   "metadata": {},
   "source": [
    "## Tuple\n",
    "A `tuple` is very similar to a list except that it is immutable. Immutable means that it cannot be changed. Once a `tuple`\n",
    "has its items set, we are not able to modify them by index. Tuples are also very similar to lists when it comes to\n",
    "creating them. Let's take a look at how we can create a `tuple`!"
   ]
  },
  {
   "cell_type": "code",
   "execution_count": 5,
   "metadata": {},
   "outputs": [
    {
     "name": "stdout",
     "output_type": "stream",
     "text": [
      "x = (1, 'tuple item', True)\n",
      "x[0] = 1\n",
      "x[1] = tuple item\n",
      "x[2] = True\n"
     ]
    }
   ],
   "source": [
    "x = (1, \"tuple item\", True)              \n",
    "print(f\"x = {x}\")\n",
    "\n",
    "x[0]                        # 1\n",
    "print(f\"x[0] = {x[0]}\")\n",
    "\n",
    "x[1]                        # \"tuple item\"\n",
    "print(f\"x[1] = {x[1]}\")\n",
    "\n",
    "x[2]                        # True\n",
    "print(f\"x[2] = {x[2]}\")"
   ]
  },
  {
   "cell_type": "markdown",
   "metadata": {},
   "source": [
    "As mentioned previously, these indices are immutable so we cannot update nor delete them. The only way to \"modify\" them\n",
    "is to create a new tuple and change the value that you want. You probably don't want to do this and instead if you know\n",
    "that your data structure is going to change, use a list.\n",
    "\n",
    "## Set\n",
    "A `set` is very similar to a list except that it cannot contain any duplicate items. It is also unordered so that when\n",
    "adding a new element, there is no index that it retains which the user controls. These several features (or lack thereof)\n",
    "are usually the only reasons why  someone would use a set over a list. We'll go over how to create a set and add to it:"
   ]
  },
  {
   "cell_type": "code",
   "execution_count": 6,
   "metadata": {},
   "outputs": [
    {
     "name": "stdout",
     "output_type": "stream",
     "text": [
      "x = {1, 2, 'three'}\n"
     ]
    }
   ],
   "source": [
    "x = set()       # create the set\n",
    "\n",
    "x.add(1)        # {1}\n",
    "x.add(2)        # {2}\n",
    "x.add(\"three\")  # {1, 2, \"three\"}\n",
    "x.add(2)        # {1, 2, \"three\"}  2 is not re-added since elements in a set must be unique\n",
    "\n",
    "print(f\"x = {x}\")"
   ]
  },
  {
   "cell_type": "markdown",
   "metadata": {},
   "source": [
    "## Dictionary\n",
    "A `dictionary` is a data structure that is based on a key/value pair. For each element in a dictionary, there is a key\n",
    "and value associated with it. There are no strict requirements on what types the key/values must be, just that keys should\n",
    "be unique (value do not need to be). Dictionaries are very useful and perform well when looking for items in a data structure\n",
    "since you can look it up by the key value rather than an abstract index value. "
   ]
  },
  {
   "cell_type": "code",
   "execution_count": 7,
   "metadata": {},
   "outputs": [
    {
     "name": "stdout",
     "output_type": "stream",
     "text": [
      "x = {0: True}\n",
      "x = {0: True, 'a': 'b'}\n"
     ]
    }
   ],
   "source": [
    "x = {0: True}               # Create the dictionary\n",
    "print(f\"x = {x}\")\n",
    "\n",
    "x['a'] = 'b'                # {0: True, 'a': 'b'}\n",
    "x[0]                        # True\n",
    "\n",
    "print(f\"x = {x}\")"
   ]
  },
  {
   "cell_type": "markdown",
   "metadata": {},
   "source": [
    "In all of the examples above, I have shown the elements within a data structure to be one of the types previously shown.\n",
    "We can go a step further and use data structures as elements within other data structures. What this means is that we can\n",
    "collect multiples lists within a dictionary (or any other permutation of data structures)."
   ]
  },
  {
   "cell_type": "code",
   "execution_count": 8,
   "metadata": {},
   "outputs": [
    {
     "name": "stdout",
     "output_type": "stream",
     "text": [
      "person = {'name': 'King Arthur', 'enemies_defeated': ['Black Knight', 'Troll'], 'knows_airspeed_velocity_of_an_unladen_swallow': True}\n"
     ]
    }
   ],
   "source": [
    "person = {'name': \"King Arthur\", 'enemies_defeated': ['Black Knight', 'Troll'],\n",
    "          'knows_airspeed_velocity_of_an_unladen_swallow': True}\n",
    "print(f\"person = {person}\")"
   ]
  },
  {
   "cell_type": "markdown",
   "metadata": {},
   "source": [
    "[Up Next: Lesson 2 - Logic](logic.ipynb)\n",
    "\n",
    "[Go Back: Lessons 2 - Python Basics](index.ipynb)"
   ]
  }
 ],
 "metadata": {
  "kernelspec": {
   "display_name": "Python 3",
   "language": "python",
   "name": "python3"
  },
  "language_info": {
   "codemirror_mode": {
    "name": "ipython",
    "version": 3
   },
   "file_extension": ".py",
   "mimetype": "text/x-python",
   "name": "python",
   "nbconvert_exporter": "python",
   "pygments_lexer": "ipython3",
   "version": "3.7.0"
  }
 },
 "nbformat": 4,
 "nbformat_minor": 2
}
