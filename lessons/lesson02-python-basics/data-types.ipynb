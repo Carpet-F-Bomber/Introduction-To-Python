{
 "cells": [
  {
   "cell_type": "markdown",
   "metadata": {},
   "source": [
    "# Data Types\n",
    "As seen in the previous topic, there are data types in Python. We initially looked at an `int` and\n",
    "a `string`. We will discuss those and a couple others below.\n",
    "\n",
    "\n",
    "## Boolean\n",
    "A `boolean` is essentially a binary value (meaning it has 2 potential values). Typically, booleans\n",
    "are used to represent `True` or `False`. Booleans are usually used in evaluating some sort of\n",
    "logic, such as checking if variables are equal to each other."
   ]
  },
  {
   "cell_type": "code",
   "execution_count": 1,
   "metadata": {},
   "outputs": [
    {
     "name": "stdout",
     "output_type": "stream",
     "text": [
      "x is True  -> True\n",
      "x is False -> False\n"
     ]
    }
   ],
   "source": [
    "x = True                                   # x represents a Boolean (True)\n",
    "\n",
    "print(f\"x is True  -> {x is True}\")        # True, because x = True\n",
    "\n",
    "print(f\"x is False -> {x is False}\")       # False, because x = True"
   ]
  },
  {
   "cell_type": "markdown",
   "metadata": {},
   "source": [
    "Booleans can also be represented with numbers. 0 represents `False` while 1 (or any other number)\n",
    "represents `True`.\n",
    "\n",
    "\n",
    "## String\n",
    "As seen before, a `string` represents 1 or more text characters that are wrapped with quotes. These\n",
    "quotes can be single `'` or double `\"`, but the one that is used to start the string, must also\n",
    "end the string."
   ]
  },
  {
   "cell_type": "code",
   "execution_count": 4,
   "metadata": {},
   "outputs": [
    {
     "name": "stdout",
     "output_type": "stream",
     "text": [
      "x == y -> True\n"
     ]
    }
   ],
   "source": [
    "x = 'this is a string'         # Valid String\n",
    "\n",
    "y = \"this is a string\"         # Valid String\n",
    "\n",
    "print(f\"x == y -> {x == y}\")    # True (Even though they use different quotations to start/end, they are equal)"
   ]
  },
  {
   "cell_type": "markdown",
   "metadata": {},
   "source": [
    "## Int\n",
    "An `int`, or integer, represents a whole number (positive or negative). Similar to numbers in real\n",
    "life, we can run the general operations on them. "
   ]
  },
  {
   "cell_type": "code",
   "execution_count": 9,
   "metadata": {},
   "outputs": [
    {
     "name": "stdout",
     "output_type": "stream",
     "text": [
      "x = 8.0\n"
     ]
    }
   ],
   "source": [
    "x = 5                   # x has a value of 5\n",
    "\n",
    "x = x + 10              # x has a value of 15\n",
    "\n",
    "x = x * 2               # x has a value of 30\n",
    "\n",
    "x = x / 3               # x has a value of 10.0\n",
    "                        # if you don't want decimals from division, use //\n",
    "\n",
    "x = x - 9               # x has a value of 1.0\n",
    "\n",
    "# A shortcut of writing what we did above would be:\n",
    "x += 3                  # equivalent to x = x + 3 (x has a value of 4.0)\n",
    "\n",
    "x *= 2                  # equivalent to x = x * 2 (x has a value of 8.0)\n",
    "\n",
    "print(f\"x = {x}\")"
   ]
  },
  {
   "cell_type": "markdown",
   "metadata": {},
   "source": [
    "## Float\n",
    "\n",
    "A `float` is similar to an integer but it represents a number to a decimal point. When setting a variable as a float you need to include the value to a decimal place. Like an int, we can run general operations on them but note the differences in the outputs."
   ]
  },
  {
   "cell_type": "code",
   "execution_count": 1,
   "metadata": {},
   "outputs": [
    {
     "name": "stdout",
     "output_type": "stream",
     "text": [
      "x = 1.0\n"
     ]
    }
   ],
   "source": [
    "x = 5.0     # x has a value of 5.0\n",
    "\n",
    "x = x + 5   # x has a value of 10.0\n",
    "\n",
    "x = x * 2   # x has a value of 20.0\n",
    "\n",
    "x = x / 2   # x has a value of 10.0\n",
    "\n",
    "x = x - 9   # x has a value of 1.0\n",
    "\n",
    "print(f\"x = {x}\")"
   ]
  },
  {
   "cell_type": "markdown",
   "metadata": {},
   "source": [
    "## Checking Data Types\n",
    "\n",
    "Python also has a handy `type()` method that when given a variable, it will provide the type of the data in the variable. With this, we can check the type of the data we have when deciding how to further use or manipulate it."
   ]
  },
  {
   "cell_type": "code",
   "execution_count": 9,
   "metadata": {},
   "outputs": [
    {
     "name": "stdout",
     "output_type": "stream",
     "text": [
      "the data type of x is <class 'bool'> (x = True)\n",
      "the data type of x is <class 'str'> (x = hello world)\n",
      "the data type of x is <class 'int'> (x = 5)\n",
      "the data type of x is <class 'float'> (x = 2.3)\n"
     ]
    }
   ],
   "source": [
    "x = True                                                 # x is a boolean\n",
    "print(f\"the data type of x is {type(x)} (x = {x})\")      \n",
    "\n",
    "x = \"hello world\"                                        # x is a string\n",
    "print(f\"the data type of x is {type(x)} (x = {x})\")      \n",
    "\n",
    "x = 5                                                    # x is an int\n",
    "print(f\"the data type of x is {type(x)} (x = {x})\")      \n",
    "\n",
    "x = 2.3                                                  # x is a float\n",
    "print(f\"the data type of x is {type(x)} (x = {x})\")      "
   ]
  },
  {
   "cell_type": "markdown",
   "metadata": {},
   "source": [
    "[Up Next: Lesson 2 - Data Structures](data-structures.ipynb)\n",
    "\n",
    "[Go Back: Lessons 2 - Python Basics](README.md)"
   ]
  }
 ],
 "metadata": {
  "kernelspec": {
   "display_name": "Python 3.10.6 64-bit",
   "language": "python",
   "name": "python3"
  },
  "language_info": {
   "codemirror_mode": {
    "name": "ipython",
    "version": 3
   },
   "file_extension": ".py",
   "mimetype": "text/x-python",
   "name": "python",
   "nbconvert_exporter": "python",
   "pygments_lexer": "ipython3",
   "version": "3.10.6"
  },
  "vscode": {
   "interpreter": {
    "hash": "93266fa46c6fd1116936f384f90115b8256b6c0438659dd2b6581779864a8658"
   }
  }
 },
 "nbformat": 4,
 "nbformat_minor": 2
}
