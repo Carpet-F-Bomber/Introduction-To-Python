{
 "cells": [
  {
   "cell_type": "markdown",
   "metadata": {},
   "source": [
    "# Logic\n",
    "The basics of any program (Python or not) are some logical fundamentals that can be applied and worked upon to create\n",
    "a wide range of programs. We will take a look at some of the logic flows.\n",
    "    \n",
    "## If Statement\n",
    "An `if` statement evaluates an expression to `True` or `False`. If the result of the expression is `True`, we take some\n",
    "action. We can also make it do something in the `False` scenario."
   ]
  },
  {
   "cell_type": "code",
   "execution_count": null,
   "metadata": {},
   "outputs": [],
   "source": [
    "x = 5\n",
    "\n",
    "if x == 5:\n",
    "    print(\"x is 5\")                 # Prints x is 5\n",
    "else:\n",
    "    print(\"x is not 5\")             # This will not print\n"
   ]
  },
  {
   "cell_type": "code",
   "execution_count": null,
   "metadata": {},
   "outputs": [],
   "source": [
    "x = 5\n",
    "\n",
    "if x == 0:\n",
    "    print(\"x is 0\")                 # This will not print\n",
    "else:\n",
    "    print(\"x is not 0\")             # Prints x is not 0"
   ]
  },
  {
   "cell_type": "markdown",
   "metadata": {},
   "source": [
    "We can also have multiple branches within an `if` statement multiple cases."
   ]
  },
  {
   "cell_type": "code",
   "execution_count": null,
   "metadata": {},
   "outputs": [],
   "source": [
    "x = 5\n",
    "\n",
    "if x == 0:\n",
    "    print (\"x is 0\")                # This will not print\n",
    "elif x == 5:\n",
    "    print(\"x is 5\")                 # Prints x is 5\n",
    "else:\n",
    "    print(\"x is a mystery\")         # This will not print"
   ]
  },
  {
   "cell_type": "markdown",
   "metadata": {},
   "source": [
    "Within these logical statements, Python gives us some built-in tools to help give us the ability to specify our scenarios.\n",
    "Within this, we will cover `is`, `not`, `and`, `or`.\n",
    "\n",
    "### is\n",
    "The keyword `is` is used, similiarly to `==`, to compare identity. `==` is used to evaluate the value meanwhile `is`\n",
    "evaluates if the objects being compared are the same or not. Let's take a look at how this works!"
   ]
  },
  {
   "cell_type": "code",
   "execution_count": null,
   "metadata": {},
   "outputs": [],
   "source": [
    "a = [1, 2, 3]\n",
    "b = a\n",
    "\n",
    "a == b              # This returns True because both a and b have the same value [1, 2, 3]\n",
    "\n",
    "a is b              # This also returns True because b points to the list a\n",
    "\n",
    "b = [1, 2, 3]\n",
    "\n",
    "a == b              # Again, this returns True because both a and b have the same value [1, 2, 3]\n",
    "\n",
    "a is b              # Now, this returns False because while b now points to a new list with the same value "
   ]
  },
  {
   "cell_type": "markdown",
   "metadata": {},
   "source": [
    "### not\n",
    "As you would think, the `not` keyword negates the value of the expression it precedes."
   ]
  },
  {
   "cell_type": "code",
   "execution_count": null,
   "metadata": {},
   "outputs": [],
   "source": [
    "a = 1\n",
    "\n",
    "b = 2\n",
    "\n",
    "c = a\n",
    "\n",
    "c is a                              # This returns True since c and a point to the same int\n",
    "\n",
    "c is not b                          # This returns True since c and b point to different ints\n",
    "\n",
    "c is not a                          # This returns False since c and a point to the same int"
   ]
  },
  {
   "cell_type": "markdown",
   "metadata": {},
   "source": [
    "### and\n",
    "`and` is a keyword is used to conjoin to expressions and return a value for their joint result. The result will only\n",
    "return `True` if the expressions being conjoined by the `and` are all `True` as well. If any of those individual\n",
    "expressions return `False`, the `and` instantly results in `False`. As a note, we can use parentheses to more easily\n",
    "read our expressions."
   ]
  },
  {
   "cell_type": "code",
   "execution_count": null,
   "metadata": {},
   "outputs": [],
   "source": [
    "a = 1\n",
    "\n",
    "b = 2\n",
    "\n",
    "if (a == 1) and (b == 2):\n",
    "    print(\"True\")                   # This will be printed\n",
    "    \n",
    "if (a == 0) and (b == 2):\n",
    "    print(\"True\")                   # This will not print\n",
    "elif (a == 0) and (b == 1):\n",
    "    print(\"True\")                   # This will not print        \n",
    "else:\n",
    "    print(\"False\")                  # This will be printed"
   ]
  },
  {
   "cell_type": "markdown",
   "metadata": {},
   "source": [
    "### or\n",
    "`or` is very similar to `and` except that we only need one of the expressions to return `True` for the entire expression\n",
    "to return `True`."
   ]
  },
  {
   "cell_type": "code",
   "execution_count": null,
   "metadata": {},
   "outputs": [],
   "source": [
    "a = 1\n",
    "\n",
    "b = 2\n",
    "\n",
    "if (a == 1) or (b == 2):\n",
    "    print(\"True\")                   # This will be printed\n",
    "    \n",
    "if (a == 1) or (b == 0):\n",
    "    print(\"True\")                   # This will be printed\n",
    "    \n",
    "if (a == 0) or (b == 2):\n",
    "    print(\"True\")                   # This will be printed"
   ]
  },
  {
   "cell_type": "markdown",
   "metadata": {},
   "source": [
    "## For Loop\n",
    "A `for` loop is a programmatic way of repeating some set of actions for a given number of times. The goal of a for loop\n",
    "is to avoid writing redundant code over and over if it will be repeating the same actions."
   ]
  },
  {
   "cell_type": "code",
   "execution_count": null,
   "metadata": {},
   "outputs": [],
   "source": [
    "fruits = [\"apricot\", \"blueberry\", \"cantaloupe\"]\n",
    "\n",
    "# If I wanted to print each item in the list, I might want to print it by the index\n",
    "print(fruits[0])\n",
    "print(fruits[1])\n",
    "print(fruits[2])\n",
    "\n",
    "# Another way to do this would be using a for loop and the range function\n",
    "# Don't worry about functions for now, just know that range(3) gives you a list of numbers starting from 0 to the\n",
    "# number passed in (exclusive). So 0, 1, and 2\n",
    "for x in range(3):                  # x will represent the values from the range function\n",
    "    print(fruits[x])                # This will print apricot, blueberry, and cataloupe each in new lines\n",
    "\n",
    "# Python also gives us a very easy way to use for loops with data structures\n",
    "for fruit in fruits:                # We will iterate through the fruits object and fruit will represent that value\n",
    "    print(fruit)                    # This has the same functionality as above"
   ]
  },
  {
   "cell_type": "markdown",
   "metadata": {},
   "source": [
    "As you can see, using `for` loops is very useful in writing neater and more readable code while giving the same\n",
    "functionality.\n",
    "\n",
    "\n",
    "## While Loop\n",
    "A `while` loop is just like a for loop except instead of giving a set amount of iterations to go through, it will enter\n",
    "the loop while a given expression expression is `True`. The iterations will continue until repeating the block of logic\n",
    "until the expression returns `False`. When using while loops, you need to be very careful because if that expression\n",
    "never resolves to end, the code will continue to run infinitely. The process will never end until you close/terminate\n",
    "the program."
   ]
  },
  {
   "cell_type": "code",
   "execution_count": null,
   "metadata": {},
   "outputs": [],
   "source": [
    "x = 0\n",
    "\n",
    "while x < 5:\n",
    "    x += 1                          # This will increment the value of x each time until (x < 5) no longer returns True\n",
    "\n",
    "print(x)                            # This will print 5 since that is when x < 5 is no longer True"
   ]
  },
  {
   "cell_type": "markdown",
   "metadata": {},
   "source": [
    "In terms of pure functionality, you will generally be able to substitute `for` loops with `while` loops and vice versa.\n",
    "The key is to understand when to use each type of loop and what allows for it to be the most readable. Generally, `for`\n",
    "loops are preferred for iterative needs because you should know how many times an iteration must be done. They are also\n",
    "easier to understand and there is less risk to having infinitely running loops as `for` loops usually a well defined\n",
    "termination point."
   ]
  },
  {
   "cell_type": "markdown",
   "metadata": {},
   "source": [
    "[Up Next: Lesson 3 - Functions](../lesson03-functions/index.ipynb)\n",
    "\n",
    "[Go Back: Lessons 2 - Python Basics](index.ipynb)"
   ]
  }
 ],
 "metadata": {
  "kernelspec": {
   "display_name": "Python 3",
   "language": "python",
   "name": "python3"
  },
  "language_info": {
   "codemirror_mode": {
    "name": "ipython",
    "version": 3
   },
   "file_extension": ".py",
   "mimetype": "text/x-python",
   "name": "python",
   "nbconvert_exporter": "python",
   "pygments_lexer": "ipython3",
   "version": "3.7.0"
  }
 },
 "nbformat": 4,
 "nbformat_minor": 2
}
