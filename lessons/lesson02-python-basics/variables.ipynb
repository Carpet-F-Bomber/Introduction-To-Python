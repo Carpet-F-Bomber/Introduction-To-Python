{
 "cells": [
  {
   "cell_type": "markdown",
   "metadata": {},
   "source": [
    "# Variables\n",
    "A variable is a container for storing data values. We can set a variable equal to some text, a number, and several\n",
    "other things. In programming, variables are handy tools which we use all the time. Let's take a look at how to use\n",
    "them!"
   ]
  },
  {
   "cell_type": "code",
   "execution_count": 1,
   "metadata": {},
   "outputs": [],
   "source": [
    "x = 5"
   ]
  },
  {
   "cell_type": "markdown",
   "metadata": {},
   "source": [
    "In this example, we set the variable (named x) equal to the number 5. After this line, the variable x will always have\n",
    "the value 5, until it is either changed or deleted."
   ]
  },
  {
   "cell_type": "code",
   "execution_count": 3,
   "metadata": {},
   "outputs": [
    {
     "name": "stdout",
     "output_type": "stream",
     "text": [
      "x = 20\n"
     ]
    }
   ],
   "source": [
    "x = 5           # x = 5\n",
    "\n",
    "x = x + 5       # x = 10\n",
    "\n",
    "x = x * 2       # x = 20\n",
    "\n",
    "print(f\"x = {x}\")"
   ]
  },
  {
   "cell_type": "markdown",
   "metadata": {},
   "source": [
    "Python also allows us to change the TYPE of data being represented by a variable (which most other programming languages\n",
    "will not allow). "
   ]
  },
  {
   "cell_type": "code",
   "execution_count": 5,
   "metadata": {},
   "outputs": [
    {
     "name": "stdout",
     "output_type": "stream",
     "text": [
      "x = 5\n",
      "x = hello\n"
     ]
    }
   ],
   "source": [
    "x = 5           # x is what we can all \"integer\" representing a number\n",
    "print(f\"x = {x}\")\n",
    "\n",
    "x = \"hello\"     # x is now a \"string\" which represents some text\n",
    "print(f\"x = {x}\")"
   ]
  },
  {
   "cell_type": "markdown",
   "metadata": {},
   "source": [
    "One thing we can do with variables is to check if they are equal in value to other things. We do this with `==` or the\n",
    "keyword `is`."
   ]
  },
  {
   "cell_type": "code",
   "execution_count": 6,
   "metadata": {},
   "outputs": [
    {
     "name": "stdout",
     "output_type": "stream",
     "text": [
      "x = 5\n",
      "x == 5 True\n",
      "x is 5 True\n",
      "x == 2 False\n",
      "x is 4 False\n",
      "x == '5' False\n",
      "x is not '5' True\n"
     ]
    }
   ],
   "source": [
    "x = 5\n",
    "\n",
    "# don't worry about how the code works below, run it and check out the results\n",
    "\n",
    "print(f\"x = {x}\")                        # x = 5\n",
    "\n",
    "print(f\"x == 5 {x == 5}\")                # True\n",
    "\n",
    "print(f\"x is 5 {x is 5}\")                # True\n",
    "\n",
    "print(f\"x == 2 {x == 2}\" )               # False\n",
    "\n",
    "print(f\"x is 4 {x is 4}\")                # False\n",
    "\n",
    "print(f\"x == '5' {x == '5'}\")            # False\n",
    "\n",
    "print(f\"x is not '5' {x is not '5'}\")    # True"
   ]
  },
  {
   "cell_type": "markdown",
   "metadata": {},
   "source": [
    "Lastly, we can delete variables if we know we no longer need them. This can be done to conserve space so that we don't\n",
    "have a million variables if we're not using them. To delete variables (and typically anything else), we use the `del`\n",
    "keyword."
   ]
  },
  {
   "cell_type": "code",
   "execution_count": 7,
   "metadata": {},
   "outputs": [
    {
     "ename": "NameError",
     "evalue": "name 'x' is not defined",
     "output_type": "error",
     "traceback": [
      "\u001b[0;31m---------------------------------------------------------------------------\u001b[0m",
      "\u001b[0;31mNameError\u001b[0m                                 Traceback (most recent call last)",
      "\u001b[0;32m<ipython-input-7-8d3885eaab1a>\u001b[0m in \u001b[0;36m<module>\u001b[0;34m\u001b[0m\n\u001b[1;32m      5\u001b[0m \u001b[0;32mdel\u001b[0m \u001b[0mx\u001b[0m\u001b[0;34m\u001b[0m\u001b[0m\n\u001b[1;32m      6\u001b[0m \u001b[0;34m\u001b[0m\u001b[0m\n\u001b[0;32m----> 7\u001b[0;31m \u001b[0mx\u001b[0m               \u001b[0;31m# Error: x doesn't exist anymore\u001b[0m\u001b[0;34m\u001b[0m\u001b[0m\n\u001b[0m",
      "\u001b[0;31mNameError\u001b[0m: name 'x' is not defined"
     ]
    }
   ],
   "source": [
    "# run this to see what happens when you try to access a deleted variable\n",
    "\n",
    "x = 5           # x = 5\n",
    "\n",
    "del x\n",
    "\n",
    "x               # Error: x doesn't exist anymore"
   ]
  },
  {
   "cell_type": "markdown",
   "metadata": {},
   "source": [
    "[Up Next: Lesson 2 - Types](data-types.ipynb)\n",
    "\n",
    "[Go Back: Lessons 2 - Python Basics](index.ipynb)\n"
   ]
  }
 ],
 "metadata": {
  "kernelspec": {
   "display_name": "Python 3",
   "language": "python",
   "name": "python3"
  },
  "language_info": {
   "codemirror_mode": {
    "name": "ipython",
    "version": 3
   },
   "file_extension": ".py",
   "mimetype": "text/x-python",
   "name": "python",
   "nbconvert_exporter": "python",
   "pygments_lexer": "ipython3",
   "version": "3.7.0"
  }
 },
 "nbformat": 4,
 "nbformat_minor": 2
}
