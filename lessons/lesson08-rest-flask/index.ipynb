{
 "cells": [
  {
   "cell_type": "markdown",
   "metadata": {},
   "source": [
    "# REST & Flask\n",
    "* [What is REST?](rest.ipynb)\n",
    "    * Commands\n",
    "        * CRUD\n",
    "    * Headers\n",
    "    * Body\n",
    "    * GitHub API Example\n",
    "* [Requests](requests.ipynb)\n",
    "    * Install / Setup\n",
    "    * Making A GET Request\n",
    "        * JSON Responses\n",
    "    * Making Other Requests (PUT/POST/DELETE)\n",
    "        * Sending Data For Request\n",
    "* [Flask](flask.ipynb)\n",
    "    * Install / Setup\n",
    "    * Basics (How To Use)\n",
    "    * Writing CRUD Services\n",
    "    * Creating A Front-End\n",
    "        * Jinja Template\n",
    "* [Heroku](heroku.ipynb)\n",
    "    * What is Heroku?\n",
    "    * Let's Deploy Our Application\n",
    "        * Create An Account\n",
    "        * Install The CLI\n",
    "        * Create & Configure An Application\n",
    "        * Deploy!"
   ]
  },
  {
   "cell_type": "markdown",
   "metadata": {},
   "source": [
    "[Up Next: Lesson 8 - What is REST?](rest.ipynb)\n",
    "\n",
    "[Go Back: Lessons](../index.ipynb)"
   ]
  }
 ],
 "metadata": {
  "kernelspec": {
   "display_name": "Python 3",
   "language": "python",
   "name": "python3"
  },
  "language_info": {
   "codemirror_mode": {
    "name": "ipython",
    "version": 3
   },
   "file_extension": ".py",
   "mimetype": "text/x-python",
   "name": "python",
   "nbconvert_exporter": "python",
   "pygments_lexer": "ipython3",
   "version": "3.7.0"
  },
  "pycharm": {
   "stem_cell": {
    "cell_type": "raw",
    "metadata": {
     "collapsed": false
    },
    "source": []
   }
  }
 },
 "nbformat": 4,
 "nbformat_minor": 2
}
