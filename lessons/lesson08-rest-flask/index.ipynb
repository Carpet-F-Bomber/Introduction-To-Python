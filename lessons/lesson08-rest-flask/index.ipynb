{
 "cells": [
  {
   "cell_type": "markdown",
   "metadata": {},
   "source": [
    "# REST & Flask\n",
    "* What is REST?\n",
    "    * Commands\n",
    "        * CRUD\n",
    "    * Headers\n",
    "    * Body\n",
    "    * GitHub API Example\n",
    "* Requests\n",
    "    * Install / Setup\n",
    "    * Making A GET Request\n",
    "        * JSON Responses\n",
    "    * Making Other Requests (PUT/POST/DELETE)\n",
    "        * Sending Data For Request\n",
    "* Flask\n",
    "    * Install / Setup\n",
    "    * Basics (How To Use)\n",
    "    * Writing CRUD Services\n",
    "    * Creating A Front-End\n",
    "        * Jinja Template\n",
    "\n",
    "\\\n",
    "\\\n",
    "\\\n",
    "\\\n",
    "\\\n",
    "\\\n",
    "\\\n",
    "[Go Back: Lessons](../README.md)\n"
   ]
  }
 ],
 "metadata": {
  "kernelspec": {
   "display_name": "Python 3",
   "language": "python",
   "name": "python3"
  },
  "language_info": {
   "codemirror_mode": {
    "name": "ipython",
    "version": 3
   },
   "file_extension": ".py",
   "mimetype": "text/x-python",
   "name": "python",
   "nbconvert_exporter": "python",
   "pygments_lexer": "ipython3",
   "version": "3.7.0"
  }
 },
 "nbformat": 4,
 "nbformat_minor": 2
}
