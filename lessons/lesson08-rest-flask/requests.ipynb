{
 "cells": [
  {
   "cell_type": "markdown",
   "metadata": {},
   "source": [
    "# Requests\n",
    "Requests is a common Python library that is used to make HTTP Web Requests. We will go through some various code examples below which walk through some of the concepts displayed in the previous lesson.\n",
    "\n",
    "## Installation\n",
    "First thing we'll need to do is to install the package via `pip`\n",
    "\n",
    "```bash\n",
    "pip install requests\n",
    "```\n",
    "\n",
    "## Usage\n",
    "\n",
    "### GET Request\n",
    "\n",
    "#### Headers\n",
    "\n",
    "### POST Request\n",
    "#### Body\n",
    "\n"
   ]
  },
  {
   "cell_type": "markdown",
   "metadata": {},
   "source": [
    "[Up Next: Lesson 8 - Flask](flask.ipynb)\n",
    "\n",
    "[Go Back: Lessons 8 - REST & Flask](index.ipynb)"
   ]
  }
 ],
 "metadata": {
  "kernelspec": {
   "display_name": "Python 3",
   "language": "python",
   "name": "python3"
  },
  "language_info": {
   "codemirror_mode": {
    "name": "ipython",
    "version": 3
   },
   "file_extension": ".py",
   "mimetype": "text/x-python",
   "name": "python",
   "nbconvert_exporter": "python",
   "pygments_lexer": "ipython3",
   "version": "3.7.0"
  }
 },
 "nbformat": 4,
 "nbformat_minor": 2
}
